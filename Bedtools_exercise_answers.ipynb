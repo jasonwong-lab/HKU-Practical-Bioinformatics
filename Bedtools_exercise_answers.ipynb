{
  "nbformat": 4,
  "nbformat_minor": 0,
  "metadata": {
    "colab": {
      "provenance": []
    },
    "kernelspec": {
      "name": "python3",
      "display_name": "Python 3"
    },
    "language_info": {
      "name": "python"
    }
  },
  "cells": [
    {
      "cell_type": "markdown",
      "source": [
        "**About the data**  \n",
        "**Sox17** is wild-type Sox17 and **Sox17FNV** is a Sox17 mutant with three mutations within its DNA binding domain.  \n",
        "The genomic binding of Sox17 and Sox17FNV was analyzed at day 6 of the somatic cell reprogramming of fibroblasts to induced pluripotent stem cells using ChIP-seq.  \n",
        "  \n",
        "\n",
        "**About Chip-seq**  \n",
        "https://en.wikipedia.org/wiki/ChIP_sequencing \n",
        "  \n",
        "\n",
        "**About Google Colab**  \n",
        "Colab notebooks allow you to combine executable code and rich text in a single document, along with images, HTML, LaTeX and more. When you create your own Colab notebooks, they are stored in your Google Drive account. You can easily share your Colab notebooks with co-workers or friends, allowing them to comment on your notebooks or even edit them.  \n",
        "  \n",
        "\n",
        "**About Debug**  \n",
        "Google Colab connects your local browser and a cloud server, if this notebook/code crashes at some point. please try to read the error message and try to figure them out first. Or you can easily reopen this notebook and run the subblock with \"\\***\" in front, then you can continue to run the code.  "
      ],
      "metadata": {
        "id": "DcKTxRV50SwY"
      }
    },
    {
      "cell_type": "markdown",
      "source": [
        "## *** Set working directory & download necessary files & download software  \n",
        "(run the following **4** code every time you re-open this notebook)"
      ],
      "metadata": {
        "id": "F-RACEWj1BgB"
      }
    },
    {
      "cell_type": "code",
      "source": [
        "# set working pathway to your own google drive doc (~ 1 min)\n",
        "# if using for the first time, you be requested to grant permission to link your Google Drive\n",
        "from google.colab import drive\n",
        "drive.mount('/content/gdrive')                       \n",
        "# change to another non-HKU account if you get error in this step."
      ],
      "metadata": {
        "id": "CA6PdRkS0Reu"
      },
      "execution_count": null,
      "outputs": []
    },
    {
      "cell_type": "code",
      "source": [
        "# now you will jump into the files/ directory\n",
        "import os\n",
        "try:\n",
        "  os.mkdir(\"/content/gdrive/My Drive/PB_course/files\")         # change this path if necessary\n",
        "except FileExistsError:\n",
        "  print(\"directory already exist. OK to continue\")\n",
        "os.chdir(\"/content/gdrive/My Drive/PB_course/files\")\n",
        "\n",
        "# download necessary files for analysis from github\n",
        "!wget -O Sox17.bed https://raw.githubusercontent.com/jasonwong-lab/HKU-Practical-Bioinformatics/main/files/Sox17.bed\n",
        "!wget -O Sox17FNV.bed https://raw.githubusercontent.com/jasonwong-lab/HKU-Practical-Bioinformatics/main/files/Sox17FNV.bed \n",
        "!wget -O mm10.txt https://raw.githubusercontent.com/jasonwong-lab/HKU-Practical-Bioinformatics/main/files/mm10.txt\n",
        "!wget -O mm10Refgene.bed https://raw.githubusercontent.com/jasonwong-lab/HKU-Practical-Bioinformatics/main/files/mm10Refgene.bed"
      ],
      "metadata": {
        "id": "RImUjzdI1AnC"
      },
      "execution_count": null,
      "outputs": []
    },
    {
      "cell_type": "code",
      "source": [
        "# install conda (~ 1 min). \n",
        "# There will be a message saying that the session has crashed but don't worry about this. This is due to the session restarting following conda installation\n",
        "!pip install -q condacolab\n",
        "import condacolab#\n",
        "condacolab.install()"
      ],
      "metadata": {
        "id": "Z3wyA7eq2Vbm"
      },
      "execution_count": null,
      "outputs": []
    },
    {
      "cell_type": "code",
      "source": [
        "# install bedtools (~ 2 min)\n",
        "!conda install -c bioconda bedtools\n",
        "\n",
        "# double check that we are in right directory\n",
        "import os\n",
        "os.chdir(\"/content/gdrive/My Drive/PB_course/files\")"
      ],
      "metadata": {
        "id": "HubMeV_D2uhq"
      },
      "execution_count": null,
      "outputs": []
    },
    {
      "cell_type": "markdown",
      "source": [
        "## Q1  \n",
        "Draw a simple Venn diagram (with numbers) for the intersection\n",
        "of Sox17 and Sox17FNV peaks"
      ],
      "metadata": {
        "id": "_AF3xvQC66W9"
      }
    },
    {
      "cell_type": "code",
      "source": [
        "!windowBed"
      ],
      "metadata": {
        "id": "-HlqpsRp9CTo"
      },
      "execution_count": null,
      "outputs": []
    },
    {
      "cell_type": "code",
      "source": [
        "!windowBed -a Sox17.bed -b Sox17FNV.bed -u  -w 200| wc -l"
      ],
      "metadata": {
        "colab": {
          "base_uri": "https://localhost:8080/"
        },
        "id": "y0E4rGNs67hK",
        "outputId": "b8395c27-58ab-4a9c-e556-f882dca3aa54"
      },
      "execution_count": null,
      "outputs": [
        {
          "output_type": "stream",
          "name": "stdout",
          "text": [
            "896\n"
          ]
        }
      ]
    },
    {
      "cell_type": "code",
      "source": [
        "!windowBed -a Sox17.bed -b Sox17FNV.bed -v -w 200 | wc -l"
      ],
      "metadata": {
        "colab": {
          "base_uri": "https://localhost:8080/"
        },
        "id": "0n6gPZMg8TOt",
        "outputId": "d363bf45-40a1-4c7b-9a99-d9ca736cfc86"
      },
      "execution_count": null,
      "outputs": [
        {
          "output_type": "stream",
          "name": "stdout",
          "text": [
            "75258\n"
          ]
        }
      ]
    },
    {
      "cell_type": "code",
      "source": [
        "!windowBed -a Sox17FNV.bed -b Sox17.bed -u -w 200| wc -l"
      ],
      "metadata": {
        "colab": {
          "base_uri": "https://localhost:8080/"
        },
        "id": "_LVep2eM8Vw8",
        "outputId": "7839d95e-312c-4e43-b32a-1ae3135bbe68"
      },
      "execution_count": null,
      "outputs": [
        {
          "output_type": "stream",
          "name": "stdout",
          "text": [
            "892\n"
          ]
        }
      ]
    },
    {
      "cell_type": "code",
      "source": [
        "!windowBed -a Sox17FNV.bed -b Sox17.bed -v -w 200| wc -l"
      ],
      "metadata": {
        "colab": {
          "base_uri": "https://localhost:8080/"
        },
        "id": "K0YCV3rR8YOs",
        "outputId": "2c64152b-58df-4bfc-efd7-55c7fe343eec"
      },
      "execution_count": null,
      "outputs": [
        {
          "output_type": "stream",
          "name": "stdout",
          "text": [
            "16693\n"
          ]
        }
      ]
    },
    {
      "cell_type": "markdown",
      "source": [
        "Hence, we have the following diagram:  \n",
        "![WeChat Image_20221019143420.jpg](data:image/jpeg;base64,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)"
      ],
      "metadata": {
        "id": "vezX9XeC8crE"
      }
    },
    {
      "cell_type": "markdown",
      "source": [
        "## Q2  \n",
        "Are there peaks in Sox17 and Sox17FNV datasets within 10 kb of the TSS of the Sox2 gene?  \n",
        "\n",
        "hints: There are two selection criteria: peaks within 10 kb of the TSS of the Sox2 gene."
      ],
      "metadata": {
        "id": "_5xEc0tu9H4v"
      }
    },
    {
      "cell_type": "code",
      "source": [
        "# double check that we are in right directory\n",
        "import os\n",
        "os.chdir(\"/content/gdrive/My Drive/PB_course/files\")\n",
        "\n",
        "#you might have done this in the class\n",
        "!sort -k1,1 -k2,2n Sox17.bed >Sox17_sorted.bed\n",
        "!sort -k1,1 -k2,2n Sox17FNV.bed >Sox17FNV_sorted.bed\n",
        "!sort -k1,1 -k2,2n mm10Refgene.bed >mm10Refgene_sorted.bed"
      ],
      "metadata": {
        "id": "HTVWOOTz-tIM"
      },
      "execution_count": null,
      "outputs": []
    },
    {
      "cell_type": "code",
      "source": [
        "!closestBed -a mm10Refgene_sorted.bed -b Sox17_sorted.bed -d | awk '$10 <10000 {print $0}' | awk '$4==\"Sox2\" {print $0}'\n",
        "#if you meet \"Error: Unable to open file mm10Refgene_sorted.bed. Exiting.\", please run the code above"
      ],
      "metadata": {
        "colab": {
          "base_uri": "https://localhost:8080/"
        },
        "id": "UseQd0WZ9I1K",
        "outputId": "f16ff073-0327-4a0b-c425-0fb124423a9a"
      },
      "execution_count": null,
      "outputs": [
        {
          "output_type": "stream",
          "name": "stdout",
          "text": [
            "chr3\t34650004\t34650005\tSox2\tchr3\t34651101\t34651102\tSox17day6_macs2_tl_fnv_pv_00001_peak_44880a\t7.67068\t1097\n"
          ]
        }
      ]
    },
    {
      "cell_type": "code",
      "source": [
        "!closestBed -a mm10Refgene_sorted.bed -b Sox17FNV_sorted.bed -d | awk '$10 <10000 {print $0}' | awk '$4==\"Sox2\" {print $0}'"
      ],
      "metadata": {
        "colab": {
          "base_uri": "https://localhost:8080/"
        },
        "id": "19eak6Pn9kUa",
        "outputId": "58e001c2-2be0-422f-f1e6-d9f8b0665999"
      },
      "execution_count": null,
      "outputs": [
        {
          "output_type": "stream",
          "name": "stdout",
          "text": [
            "chr3\t34650004\t34650005\tSox2\tchr3\t34654047\t34654048\tFNVday6_macs2_tl_fnv_pv_00001_peak_10497\t68.93124\t4043\n"
          ]
        }
      ]
    },
    {
      "cell_type": "markdown",
      "source": [
        "##Q3  \n",
        "Is there a strong peak (p-value score >50)?  \n",
        "\n",
        "The p-value score is given in column **9**.  \n",
        "The distance of the binding peak to the TSS is in column **10**.  \n",
        "For the Sox17 dataset, the p-value score for the peak of interest is **7.67**.   \n",
        "For the Sox17FNV dataset, the p-value score for the peak of interest is **68.93**.  \n",
        "**Therefore, a strong peak was detected in the Sox17FNV dataset but not in the Sox17 dataset**.\n"
      ],
      "metadata": {
        "id": "NqGzPket_bNa"
      }
    },
    {
      "cell_type": "markdown",
      "source": [
        "## Q4  \n",
        "Is this peak common or unique for our datasets?  \n",
        "Given the different strengths and locations of the two peaks, it can be concluded that the peak with a p-value score of 68.9 is **unique** for the Sox17FNV datasets.  \n"
      ],
      "metadata": {
        "id": "_3yKmcS9AFoI"
      }
    },
    {
      "cell_type": "markdown",
      "source": [
        "## Q5  \n",
        "Describe and interpret the results of the analysis.\n",
        "The binding profile of the mutant Sox17FNV transcription factor protein is very different from wild type Sox17 (see Veen diagram). An example of a binding site unique to Sox17FNV is located 4043 base-pairs upstream of the transcription start site of the Sox2 gene. A genome browser plot for the binding site near Sox2 can be found in Figure 6C in this publication: \n",
        "https://www.cell.com/stem-cell-reports/fulltext/S2213-6711(18)30307-2"
      ],
      "metadata": {
        "id": "cG_xYBTgAMZH"
      }
    }
  ]
}