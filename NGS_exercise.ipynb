{
  "nbformat": 4,
  "nbformat_minor": 0,
  "metadata": {
    "colab": {
      "provenance": []
    },
    "kernelspec": {
      "name": "python3",
      "display_name": "Python 3"
    },
    "language_info": {
      "name": "python"
    }
  },
  "cells": [
    {
      "cell_type": "markdown",
      "source": [
        "## NGS alignment exercise\n",
        "\n",
        "WXS_example_* and WXS_example_cancer_* are next-generation sequencing (NGS) data from the blood and cancer tissue of a colorectal cancer patient^, respectively.\n",
        "\n",
        "Next week, we will learn to call single nucleotide variants from these files. Our objective this week is just to align them. Please answer the following questions as you proceed to align the file and note down your Linux commands used in a separate document.\n",
        "\n",
        "(1)\tWhy are there two files for each sample (i.e. WXS_example_1.fq.gz and WXS_example_2.fq.gz)?\n",
        "\n",
        "(2)\tHow long are the reads in WXS_sample_1.fq.gz?\n",
        "\n",
        "(3)\tHow many reads are in each sample?\n",
        "\n",
        "(4)\tNow align the file. How many properly paired reads were aligned in WXS_example and WXS_example_cancer, respectively?\n",
        "\n",
        "(5)\tView the files in IGV. What regions of DNA are most reads covering?\n",
        "\n",
        "(6)\tWhat is the coverage at the transcription start site of MSH6?\n"
      ],
      "metadata": {
        "id": "VnGEHRXIzs6y"
      }
    },
    {
      "cell_type": "markdown",
      "source": [
        "First setup Colab session to do exercise"
      ],
      "metadata": {
        "id": "tuFXbU-r0JSa"
      }
    },
    {
      "cell_type": "code",
      "source": [
        "# Set working pathway to your own google drive doc (~ 1 min)\n",
        "from google.colab import drive\n",
        "drive.mount('/content/gdrive')                         # if using for the first time, you be requested to grant permission to link your Google Drive\n",
        "\n",
        "import os\n",
        "try:\n",
        "  os.mkdir(\"/content/gdrive/My Drive/PB_course\")         # change this path if necessary\n",
        "except FileExistsError:\n",
        "  print(\"directory already exist. OK to continue\")\n",
        "os.chdir(\"/content/gdrive/My Drive/PB_course\")"
      ],
      "metadata": {
        "id": "p4_KlYtbrzzF",
        "colab": {
          "base_uri": "https://localhost:8080/"
        },
        "outputId": "fa221b77-9b0a-4901-b1d5-04a04444b4fc"
      },
      "execution_count": 1,
      "outputs": [
        {
          "output_type": "stream",
          "name": "stdout",
          "text": [
            "Mounted at /content/gdrive\n",
            "directory already exist. OK to continue\n"
          ]
        }
      ]
    },
    {
      "cell_type": "code",
      "source": [
        "# Install conda (~ 1 min). There will be a message saying that the session has crashed but don't worry about this. This is due to the session restarting following conda installation\n",
        "!pip install -q condacolab\n",
        "import condacolab\n",
        "condacolab.install()"
      ],
      "metadata": {
        "id": "UJMUyjxntquy",
        "colab": {
          "base_uri": "https://localhost:8080/"
        },
        "outputId": "235f0535-5dbc-4707-f89e-2b0f8982c645"
      },
      "execution_count": 2,
      "outputs": [
        {
          "output_type": "stream",
          "name": "stdout",
          "text": [
            "⏬ Downloading https://github.com/conda-forge/miniforge/releases/download/23.11.0-0/Mambaforge-23.11.0-0-Linux-x86_64.sh...\n",
            "📦 Installing...\n",
            "📌 Adjusting configuration...\n",
            "🩹 Patching environment...\n",
            "⏲ Done in 0:00:15\n",
            "🔁 Restarting kernel...\n"
          ]
        }
      ]
    },
    {
      "cell_type": "code",
      "source": [
        "# Install samtools (~1 min)\n",
        "!conda install -c bioconda samtools"
      ],
      "metadata": {
        "id": "oMH5G73bz_CI"
      },
      "execution_count": null,
      "outputs": []
    },
    {
      "cell_type": "code",
      "source": [
        "# Install bwa (~ 1 min)\n",
        "!conda install -c bioconda bwa"
      ],
      "metadata": {
        "id": "hkiiT0YRz4S2"
      },
      "execution_count": null,
      "outputs": []
    },
    {
      "cell_type": "code",
      "source": [
        "# Install igv-notebook (< 1 min)\n",
        "!pip install igv-notebook"
      ],
      "metadata": {
        "id": "B_5lJh21K7Ya"
      },
      "execution_count": null,
      "outputs": []
    },
    {
      "cell_type": "code",
      "source": [
        "# Download reference sequence\n",
        "# Double check that we are in the right directory (~ 30s)\n",
        "import os\n",
        "os.chdir(\"/content/gdrive/MyDrive/PB_course\")                     # change this path if necessary\n",
        "\n",
        "import os\n",
        "if os.path.isfile(\"/content/gdrive/MyDrive/PB_course/DB_trunc/chr2.fa\"):    # check if the file exist\n",
        "  print(\"reference file already exist, OK to continue.\")\n",
        "else:\n",
        "  !pip install gdown\n",
        "  !gdown https://drive.google.com/uc?id=1aRJVznjy5WLQ5Dc0DT9c6NiXw64HdoKr # download if file not exist\n",
        "  # unzip fasta file\n",
        "  !unzip DB_trunc.zip\n",
        "  # remove the zip file after extraction\n",
        "  !rm DB_trunc.zip\n",
        "\n",
        "!ls -l ./DB_trunc/"
      ],
      "metadata": {
        "id": "OwoP1gu3GWLX"
      },
      "execution_count": null,
      "outputs": []
    },
    {
      "cell_type": "code",
      "source": [
        "# Run this cell to download the WXS files\n",
        "import os\n",
        "os.chdir(\"/content/gdrive/My Drive/PB_course\")\n",
        "\n",
        "import os\n",
        "if os.path.isfile(\"/content/gdrive/MyDrive/PB_course/Datasets/WXS_example_cancer_1.fq.gz\"):    # check if the file exist\n",
        "  print(\"file already exist, OK to continue.\")\n",
        "else:\n",
        " !wget -O Datasets_GXS.zip https://github.com/jasonwong-lab/HKU-Practical-Bioinformatics/raw/main/files/Datasets_GXS.zip\n",
        " !unzip -o Datasets_GXS.zip   # unzip file\n",
        " !rm Datasets_GXS.zip\n",
        " !wget -O Datasets/WXS_example_cancer_1.fq.gz https://github.com/jasonwong-lab/HKU-Practical-Bioinformatics/raw/main/files/WXS_example_cancer_1.fq.gz\n",
        " !wget -O Datasets/WXS_example_cancer_2.fq.gz https://github.com/jasonwong-lab/HKU-Practical-Bioinformatics/raw/main/files/WXS_example_cancer_2.fq.gz\n",
        "\n",
        "\n",
        "# Check what files we have now\n",
        "%cd /content/gdrive/MyDrive/PB_course/Datasets/\n",
        "!ls -l"
      ],
      "metadata": {
        "id": "F3BzFQvlO-W1",
        "colab": {
          "base_uri": "https://localhost:8080/"
        },
        "outputId": "43625e72-86ef-43ff-b200-340a10ba510e"
      },
      "execution_count": 1,
      "outputs": [
        {
          "output_type": "stream",
          "name": "stdout",
          "text": [
            "--2024-10-25 18:13:29--  https://github.com/jasonwong-lab/HKU-Practical-Bioinformatics/raw/main/files/Datasets_GXS.zip\n",
            "Resolving github.com (github.com)... 20.27.177.113\n",
            "Connecting to github.com (github.com)|20.27.177.113|:443... connected.\n",
            "HTTP request sent, awaiting response... 302 Found\n",
            "Location: https://raw.githubusercontent.com/jasonwong-lab/HKU-Practical-Bioinformatics/main/files/Datasets_GXS.zip [following]\n",
            "--2024-10-25 18:13:29--  https://raw.githubusercontent.com/jasonwong-lab/HKU-Practical-Bioinformatics/main/files/Datasets_GXS.zip\n",
            "Resolving raw.githubusercontent.com (raw.githubusercontent.com)... 185.199.109.133, 185.199.108.133, 185.199.110.133, ...\n",
            "Connecting to raw.githubusercontent.com (raw.githubusercontent.com)|185.199.109.133|:443... connected.\n",
            "HTTP request sent, awaiting response... 200 OK\n",
            "Length: 24016057 (23M) [application/zip]\n",
            "Saving to: ‘Datasets_GXS.zip’\n",
            "\n",
            "Datasets_GXS.zip    100%[===================>]  22.90M  38.3MB/s    in 0.6s    \n",
            "\n",
            "2024-10-25 18:13:32 (38.3 MB/s) - ‘Datasets_GXS.zip’ saved [24016057/24016057]\n",
            "\n",
            "Archive:  Datasets_GXS.zip\n",
            " extracting: Datasets/WXS_example_1.fq.gz  \n",
            " extracting: Datasets/WXS_example_2.fq.gz  \n",
            "--2024-10-25 18:13:32--  https://github.com/jasonwong-lab/HKU-Practical-Bioinformatics/raw/main/files/WXS_example_cancer_1.fq.gz\n",
            "Resolving github.com (github.com)... 20.27.177.113\n",
            "Connecting to github.com (github.com)|20.27.177.113|:443... connected.\n",
            "HTTP request sent, awaiting response... 302 Found\n",
            "Location: https://raw.githubusercontent.com/jasonwong-lab/HKU-Practical-Bioinformatics/main/files/WXS_example_cancer_1.fq.gz [following]\n",
            "--2024-10-25 18:13:33--  https://raw.githubusercontent.com/jasonwong-lab/HKU-Practical-Bioinformatics/main/files/WXS_example_cancer_1.fq.gz\n",
            "Resolving raw.githubusercontent.com (raw.githubusercontent.com)... 185.199.109.133, 185.199.110.133, 185.199.108.133, ...\n",
            "Connecting to raw.githubusercontent.com (raw.githubusercontent.com)|185.199.109.133|:443... connected.\n",
            "HTTP request sent, awaiting response... 200 OK\n",
            "Length: 24184072 (23M) [application/octet-stream]\n",
            "Saving to: ‘Datasets/WXS_example_cancer_1.fq.gz’\n",
            "\n",
            "Datasets/WXS_exampl 100%[===================>]  23.06M  39.5MB/s    in 0.6s    \n",
            "\n",
            "2024-10-25 18:13:35 (39.5 MB/s) - ‘Datasets/WXS_example_cancer_1.fq.gz’ saved [24184072/24184072]\n",
            "\n",
            "--2024-10-25 18:13:35--  https://github.com/jasonwong-lab/HKU-Practical-Bioinformatics/raw/main/files/WXS_example_cancer_2.fq.gz\n",
            "Resolving github.com (github.com)... 20.27.177.113\n",
            "Connecting to github.com (github.com)|20.27.177.113|:443... connected.\n",
            "HTTP request sent, awaiting response... 302 Found\n",
            "Location: https://raw.githubusercontent.com/jasonwong-lab/HKU-Practical-Bioinformatics/main/files/WXS_example_cancer_2.fq.gz [following]\n",
            "--2024-10-25 18:13:36--  https://raw.githubusercontent.com/jasonwong-lab/HKU-Practical-Bioinformatics/main/files/WXS_example_cancer_2.fq.gz\n",
            "Resolving raw.githubusercontent.com (raw.githubusercontent.com)... 185.199.108.133, 185.199.109.133, 185.199.111.133, ...\n",
            "Connecting to raw.githubusercontent.com (raw.githubusercontent.com)|185.199.108.133|:443... connected.\n",
            "HTTP request sent, awaiting response... 200 OK\n",
            "Length: 23761640 (23M) [application/octet-stream]\n",
            "Saving to: ‘Datasets/WXS_example_cancer_2.fq.gz’\n",
            "\n",
            "Datasets/WXS_exampl 100%[===================>]  22.66M  37.2MB/s    in 0.6s    \n",
            "\n",
            "2024-10-25 18:13:38 (37.2 MB/s) - ‘Datasets/WXS_example_cancer_2.fq.gz’ saved [23761640/23761640]\n",
            "\n",
            "/content/gdrive/MyDrive/PB_course/Datasets\n",
            "total 75716\n",
            "drwx------ 2 root root     4096 Oct 25 10:09 BAM\n",
            "-rw------- 1 root root   567619 Oct 25 08:17 ChIP-seq_H3K27ac_example_fastqc.html\n",
            "-rw------- 1 root root   377137 Oct 25 08:17 ChIP-seq_H3K27ac_example_fastqc.zip\n",
            "-rw------- 1 root root   291049 Sep  2  2018 ChIP-seq_H3K27ac_example.fq.gz\n",
            "-rw------- 1 root root    22537 Oct 25 08:02 condacolab_install.log\n",
            "-rw------- 1 root root  2144993 Sep  2  2018 WGS_example_1.fq.gz\n",
            "-rw------- 1 root root  2161065 Sep  2  2018 WGS_example_2.fq.gz\n",
            "-rw------- 1 root root 12097196 Sep  3  2018 WXS_example_1.fq.gz\n",
            "-rw------- 1 root root 11918373 Sep  3  2018 WXS_example_2.fq.gz\n",
            "-rw------- 1 root root 24184072 Oct 25 18:13 WXS_example_cancer_1.fq.gz\n",
            "-rw------- 1 root root 23761640 Oct 25 18:13 WXS_example_cancer_2.fq.gz\n"
          ]
        }
      ]
    },
    {
      "cell_type": "markdown",
      "source": [
        "Now can start the exercise.\n",
        "The answers are on Moodle.\n",
        "Type in the code yourself to get familiar with Colab."
      ],
      "metadata": {
        "id": "OZsZQ6_90hhc"
      }
    },
    {
      "cell_type": "markdown",
      "source": [
        "**Q1 Why are there two files for each sample (i.e. WXS_example_1.fq.gz and WXS_example_2.fq.gz)?**"
      ],
      "metadata": {
        "id": "nd83lrz9_qRX"
      }
    },
    {
      "cell_type": "markdown",
      "source": [],
      "metadata": {
        "id": "WnsIn-R1_73b"
      }
    },
    {
      "cell_type": "markdown",
      "source": [
        "**Q2 How long are the reads in WXS_sample_1.fq.gz?**  \n",
        "hints: zcat"
      ],
      "metadata": {
        "id": "pmtZC34u_-Cm"
      }
    },
    {
      "cell_type": "code",
      "source": [],
      "metadata": {
        "id": "hupifFgYAEVM"
      },
      "execution_count": null,
      "outputs": []
    },
    {
      "cell_type": "markdown",
      "source": [
        "**Q3 How many reads are in each sample?**  \n",
        "hints: zcat + wc -l"
      ],
      "metadata": {
        "id": "g9_CAs_5ANlh"
      }
    },
    {
      "cell_type": "code",
      "source": [],
      "metadata": {
        "id": "Qzz_b8pQASBj"
      },
      "execution_count": null,
      "outputs": []
    },
    {
      "cell_type": "markdown",
      "source": [
        "**Q4 Now align the file. How many properly paired reads were aligned in WXS_example and WXS_example_cancer, respectively?**  \n",
        "hints: bwa mem + samtools flagstat"
      ],
      "metadata": {
        "id": "mQiY_opaAc17"
      }
    },
    {
      "cell_type": "code",
      "source": [],
      "metadata": {
        "id": "Sz8LuObHAe4r"
      },
      "execution_count": null,
      "outputs": []
    },
    {
      "cell_type": "markdown",
      "source": [
        "**Q5 View the files in IGV. What regions of DNA are most reads covering?**"
      ],
      "metadata": {
        "id": "g9-dOIyfBMXI"
      }
    },
    {
      "cell_type": "code",
      "source": [
        "# First prepare files for IGV\n"
      ],
      "metadata": {
        "id": "OlvQIRp2BO1C"
      },
      "execution_count": null,
      "outputs": []
    },
    {
      "cell_type": "code",
      "source": [
        "# Then load the tracks in IGV"
      ],
      "metadata": {
        "id": "aQu1Mn8dBU7w"
      },
      "execution_count": null,
      "outputs": []
    },
    {
      "cell_type": "markdown",
      "source": [
        "**Q6 What is the coverage at the transcription start site of MSH6?**  \n",
        "hints: use the IGV app to find answer"
      ],
      "metadata": {
        "id": "_rY-uv_VBaPP"
      }
    },
    {
      "cell_type": "markdown",
      "source": [],
      "metadata": {
        "id": "Ikk7eQXuBg7I"
      }
    }
  ]
}