{
  "nbformat": 4,
  "nbformat_minor": 0,
  "metadata": {
    "colab": {
      "provenance": [],
      "include_colab_link": true
    },
    "kernelspec": {
      "name": "python3",
      "display_name": "Python 3"
    },
    "language_info": {
      "name": "python"
    }
  },
  "cells": [
    {
      "cell_type": "markdown",
      "metadata": {
        "id": "view-in-github",
        "colab_type": "text"
      },
      "source": [
        "<a href=\"https://colab.research.google.com/github/jasonwong-lab/HKU-Practical-Bioinformatics/blob/main/Variant_Calling.ipynb\" target=\"_parent\"><img src=\"https://colab.research.google.com/assets/colab-badge.svg\" alt=\"Open In Colab\"/></a>"
      ]
    },
    {
      "cell_type": "markdown",
      "source": [
        "# HKU Practical Bioinformatics 2025 - Variant Calling\n",
        "\n",
        "*by Prof. Jason Wong*\n",
        "\n",
        "This lecture aims to demonstrate how variants/mutations are called from aligned next-generation sequencing data."
      ],
      "metadata": {
        "id": "QRHpV2U05PpK"
      }
    },
    {
      "cell_type": "markdown",
      "source": [
        "#Set working directory\n",
        "\n",
        "By default, the working directory will be My Drive/PB_course."
      ],
      "metadata": {
        "id": "qV5hMQ6FYRbp"
      }
    },
    {
      "cell_type": "code",
      "source": [
        "# Set working pathway to your own google drive doc (~ 1 min)\n",
        "from google.colab import drive\n",
        "drive.mount('/content/gdrive')                         # if using for the first time, you be requested to grant permission to link your Google Drive\n",
        "\n",
        "import os\n",
        "try:\n",
        "  os.mkdir(\"/content/gdrive/My Drive/PB_course/\")         # change this path if necessary\n",
        "except FileExistsError:\n",
        "  print(\"directory already exist. OK to continue\")\n",
        "os.chdir(\"/content/gdrive/My Drive/PB_course/\")"
      ],
      "metadata": {
        "id": "mtrzemqVYSP3"
      },
      "execution_count": null,
      "outputs": []
    },
    {
      "cell_type": "code",
      "source": [
        "!pwd"
      ],
      "metadata": {
        "id": "UVhv0vR9DLWA"
      },
      "execution_count": null,
      "outputs": []
    },
    {
      "cell_type": "markdown",
      "source": [
        "#Package installation and downloads for workshop (~ 5 minutes)\n",
        "\n",
        "**IMPORTANT: Every time you connect to Google Colab, you have to perform these set up steps again**"
      ],
      "metadata": {
        "id": "JyDL03P7YihV"
      }
    },
    {
      "cell_type": "code",
      "source": [
        "# Install conda (~ 1 min). There will be a message saying that the session has crashed but don't worry about this. This is due to the session restarting following conda installation\n",
        "!pip install -q condacolab\n",
        "import condacolab\n",
        "condacolab.install()"
      ],
      "metadata": {
        "id": "2Wi9xeIHbYOJ"
      },
      "execution_count": null,
      "outputs": []
    },
    {
      "cell_type": "code",
      "source": [
        "# Install lofreq (~ 1 min)\n",
        "!conda install -c bioconda lofreq"
      ],
      "metadata": {
        "id": "E8tWhI9KYYAd"
      },
      "execution_count": null,
      "outputs": []
    },
    {
      "cell_type": "code",
      "source": [
        "# Install GATK in a new environment (to specify the exapct openjdk and python version) ~1.5 mins\n",
        "!conda create -y -n gatkenv python=3.10\n",
        "!conda config --env --set channel_priority strict\n",
        "!conda install -y -n gatkenv -c conda-forge -c bioconda gatk4=4.6.2.0 openjdk=17"
      ],
      "metadata": {
        "id": "DqyoJOZdG8O0"
      },
      "execution_count": null,
      "outputs": []
    },
    {
      "cell_type": "code",
      "source": [
        "# Check that gatk is installed properly\n",
        "!conda run -n gatkenv gatk --version"
      ],
      "metadata": {
        "id": "2XfrhDruHTef"
      },
      "execution_count": null,
      "outputs": []
    },
    {
      "cell_type": "code",
      "source": [
        "!conda install -y -c conda-forge -c bioconda \\\n",
        "  samtools=1.20 bcftools=1.20 htslib=1.20 bedtools=2.31.1 bamtools"
      ],
      "metadata": {
        "id": "42WPWxZgL8r9"
      },
      "execution_count": null,
      "outputs": []
    },
    {
      "cell_type": "code",
      "source": [
        "# Check installation ran correctly\n",
        "!samtools --version | head -1"
      ],
      "metadata": {
        "id": "ZlVvUmr0i_Ok"
      },
      "execution_count": null,
      "outputs": []
    },
    {
      "cell_type": "code",
      "source": [
        "# Install igv-notebook\n",
        "import sys\n",
        "print(sys.version, sys.executable)\n",
        "!{sys.executable} -m pip install -U igv-notebook\n",
        "import igv_notebook"
      ],
      "metadata": {
        "id": "LpCCPm0wkCXv"
      },
      "execution_count": null,
      "outputs": []
    },
    {
      "cell_type": "code",
      "source": [
        "# Check if you already have the BAM files generated from last lecture + exercise\n",
        "!ls -l /content/gdrive/MyDrive/PB_course/Datasets/BAM"
      ],
      "metadata": {
        "id": "k54rkzTlfUi4"
      },
      "execution_count": null,
      "outputs": []
    },
    {
      "cell_type": "code",
      "source": [
        "# If you don't have WXS_example_*_sorted.bam, run this cell\n",
        "import os\n",
        "os.chdir(\"/content/gdrive/My Drive/PB_course/Datasets/\")\n",
        "if os.path.isfile(\"/content/gdrive/MyDrive/PB_course/Datasets/BAM/WXS_example_sorted.bam\"):    # check if the file exist\n",
        "  print(\"WXS_example_*_sorted.bam files already exist, OK to continue\")\n",
        "else:\n",
        "  !pip install gdown\n",
        "  !gdown -O WXS_BAMs.zip https://drive.google.com/uc?id=1Asekyf-W-XAIjrCi4ok-xEIdy625i943\n",
        "  !unzip WXS_BAMs.zip\n",
        "  !rm WXS_BAMs.zip"
      ],
      "metadata": {
        "id": "p_jerGiQ1sqV"
      },
      "execution_count": null,
      "outputs": []
    },
    {
      "cell_type": "code",
      "source": [
        "# Download reference sequence\n",
        "# Double check that we are in the right directory (~ 30s)\n",
        "import os\n",
        "os.chdir(\"/content/gdrive/MyDrive/PB_course\")                     # change this path if necessary\n",
        "\n",
        "import os\n",
        "if os.path.isfile(\"/content/gdrive/MyDrive/PB_course/DB_trunc/chr2.fa\"):    # check if the file exist\n",
        "  print(\"reference file already exist, OK to continue.\")\n",
        "else:\n",
        "  !pip install gdown\n",
        "  !gdown -O DB_trunc.zip https://drive.google.com/uc?id=1aRJVznjy5WLQ5Dc0DT9c6NiXw64HdoKr # download if file not exist\n",
        "  # unzip fasta file\n",
        "  !unzip -o DB_trunc.zip\n",
        "  # remove the zip file after extraction\n",
        "  !rm DB_trunc.zip\n",
        "\n",
        "!ls -l ./DB_trunc/"
      ],
      "metadata": {
        "id": "OwoP1gu3GWLX",
        "collapsed": true
      },
      "execution_count": null,
      "outputs": []
    },
    {
      "cell_type": "code",
      "source": [
        "# Download reference sequence for GATK\n",
        "import os\n",
        "os.chdir(\"/content/gdrive/MyDrive/PB_course/Datasets\")                     # change this path if necessary\n",
        "\n",
        "import os\n",
        "if os.path.isfile(\"/content/gdrive/MyDrive/PB_course/Datasets/GATK_reference\"):    # check if the file exist\n",
        "  print(\"reference file already exist, OK to continue.\")\n",
        "else:\n",
        "  !pip install gdown\n",
        "  !gdown -O GATK_reference.zip https://drive.google.com/uc?id=1Wxkng_IlPuw_EOgDo80LyEE4fT37ZV4W # download if file not exist\n",
        "  # unzip fasta file\n",
        "  !unzip -n GATK_reference.zip\n",
        "  # remove the zip file after extraction\n",
        "  !rm GATK_reference.zip\n",
        "\n",
        "!ls -l ./GATK_reference/\n"
      ],
      "metadata": {
        "id": "yHd4Iwp0Y1be"
      },
      "execution_count": null,
      "outputs": []
    },
    {
      "cell_type": "markdown",
      "source": [
        "#Variant Calling"
      ],
      "metadata": {
        "id": "qdFQaQR3c2vY"
      }
    },
    {
      "cell_type": "markdown",
      "source": [
        "## Variant calling command line: Lofreq"
      ],
      "metadata": {
        "id": "UxLWK3wIY1eq"
      }
    },
    {
      "cell_type": "code",
      "source": [
        "!lofreq"
      ],
      "metadata": {
        "id": "f0GVEhjDjVG9"
      },
      "execution_count": null,
      "outputs": []
    },
    {
      "cell_type": "code",
      "source": [
        "# Variant calling using LoFreq\n",
        "!lofreq call"
      ],
      "metadata": {
        "id": "jSL4JPJHYjN6"
      },
      "execution_count": null,
      "outputs": []
    },
    {
      "cell_type": "code",
      "source": [
        "# Step 1 – Create directory to store VCF files. Make sure we are in the Datasets directory.\n",
        "%cd /content/gdrive/My Drive/PB_course/Datasets/\n",
        "!mkdir VCF/"
      ],
      "metadata": {
        "id": "AsDq2fIXcgK9"
      },
      "execution_count": null,
      "outputs": []
    },
    {
      "cell_type": "code",
      "source": [
        "# Step 2 – Run LoFreq call\n",
        "!rm VCF/*.vcf # removing existing VCF files in case lofreq call was already ran previously\n",
        "!lofreq call ./BAM/WXS_example_sorted.bam -o ./VCF/WXS_germline_nofilter.vcf -f ../DB_trunc/chr2.fa --verbose --no-default-filter"
      ],
      "metadata": {
        "id": "CnPshIZ6c5A4"
      },
      "execution_count": null,
      "outputs": []
    },
    {
      "cell_type": "code",
      "source": [
        "# Step 3 - Run LoFreq filter\n",
        "!lofreq filter --print-all -i ./VCF/WXS_germline_nofilter.vcf -o ./VCF/WXS_germline_filter.vcf"
      ],
      "metadata": {
        "id": "s5I3XJiVZCJd"
      },
      "execution_count": null,
      "outputs": []
    },
    {
      "cell_type": "code",
      "source": [
        "# Check result\n",
        "!head -n 30 ./VCF/WXS_germline_filter.vcf"
      ],
      "metadata": {
        "id": "hmWWDqzTdfcS"
      },
      "execution_count": null,
      "outputs": []
    },
    {
      "cell_type": "code",
      "source": [
        "import igv_notebook\n",
        "\n",
        "igv_notebook.init()\n",
        "\n",
        "b = igv_notebook.Browser(\n",
        "    {\n",
        "        \"genome\": \"hg38\",\n",
        "        \"locus\": \"chr2:5876477-5876517\"\n",
        "    }\n",
        ")\n",
        "\n",
        "b.load_track(\n",
        "    {\n",
        "        \"name\": \"WXS\",\n",
        "        \"path\": \"./BAM/WXS_example_sorted.bam\",\n",
        "        \"indexPath\": \"./BAM/WXS_example_sorted.bam.bai\",\n",
        "        \"format\": \"bam\",\n",
        "        \"type\": \"alignment\"\n",
        "    })"
      ],
      "metadata": {
        "id": "l_qYmJsRjl63"
      },
      "execution_count": null,
      "outputs": []
    },
    {
      "cell_type": "markdown",
      "source": [
        "## Variant calling command line: Mutect2\n",
        "1. Alignment post-processing\n",
        "2. Run alignment metrics generation\n",
        "3. Variant Calling\n",
        "4. Normalisation and Filtering"
      ],
      "metadata": {
        "id": "fRx0sFvCY6EN"
      }
    },
    {
      "cell_type": "markdown",
      "source": [
        "### Alignment post-processing"
      ],
      "metadata": {
        "id": "kXJCYt6ccXEn"
      }
    },
    {
      "cell_type": "code",
      "source": [
        "# Step 1 – Create directory to store GATK output files. Make sure we are in the Datasets directory.\n",
        "%cd /content/gdrive/My Drive/PB_course/Datasets/\n",
        "!mkdir GATK/"
      ],
      "metadata": {
        "id": "aKv_RrMwjear"
      },
      "execution_count": null,
      "outputs": []
    },
    {
      "cell_type": "code",
      "source": [
        "# Step 2 – Add read groups (RG), tags for downstream tools to run properly\n",
        "!conda run -n gatkenv gatk AddOrReplaceReadGroups \\\n",
        "  -I ./BAM/WXS_example_sorted.bam \\\n",
        "  -O ./GATK/WXS_example_sorted.RG.bam \\\n",
        "  --RGID RG1 --RGLB lib1 --RGPL ILLUMINA --RGPU unit1 \\\n",
        "  --RGSM WXS_example --CREATE_INDEX true"
      ],
      "metadata": {
        "id": "a_8nxrbrJIXk"
      },
      "execution_count": null,
      "outputs": []
    },
    {
      "cell_type": "code",
      "source": [
        "# View our output\n",
        "!samtools view -H ./GATK/WXS_example_sorted.RG.bam | grep '^@RG'"
      ],
      "metadata": {
        "id": "oCmmKopNjxRn"
      },
      "execution_count": null,
      "outputs": []
    },
    {
      "cell_type": "code",
      "source": [
        "# Step 3 - Mark PCR/optical duplicates so they don't inflate evidence\n",
        "!conda run -n gatkenv gatk MarkDuplicates\\\n",
        "  -I ./GATK/WXS_example_sorted.RG.bam \\\n",
        "  -O ./GATK/WXS_example_sorted.MD.bam \\\n",
        "  -M  ./GATK/WXS_example_sorted.MD.stat \\\n",
        "  --CREATE_INDEX true"
      ],
      "metadata": {
        "id": "qmzvqg0pk0YT"
      },
      "execution_count": null,
      "outputs": []
    },
    {
      "cell_type": "code",
      "source": [
        "# Create dictionary for the reference genome file (metadata file)\n",
        "if os.path.isfile(\"/content/gdrive/MyDrive/PB_course/DB_trunc/chr2.dict\"):    # check if the file exist\n",
        "  print(\"dictionary file already exist, OK to continue.\")\n",
        "else:\n",
        "  !conda run -n gatkenv gatk CreateSequenceDictionary \\\n",
        "    -R ../DB_trunc/chr2.fa"
      ],
      "metadata": {
        "id": "nzNZoROJvNZT"
      },
      "execution_count": null,
      "outputs": []
    },
    {
      "cell_type": "code",
      "source": [
        "# Step 4 - Base Quality Score Recalibration: statistically corrects systematic base-quality errors using known sites\n",
        "# Step 4a. Build Recal model\n",
        "!conda run -n gatkenv gatk BaseRecalibrator \\\n",
        "  -R ../DB_trunc/chr2.fa -I ./GATK/WXS_example_sorted.MD.bam \\\n",
        "  -L ./GATK_reference/intervals.bed -ip 10 \\\n",
        "  --known-sites ./GATK_reference/dbsnp138.hg38.subset.vcf \\\n",
        "  --known-sites ./GATK_reference/mills.hg38.subset.vcf.gz \\\n",
        "  -O ./GATK/WXS_example_sorted_recal_data.table"
      ],
      "metadata": {
        "id": "7Dd8YCPvlNzu"
      },
      "execution_count": null,
      "outputs": []
    },
    {
      "cell_type": "code",
      "source": [
        "# Step 4b. Apply recalibration to bam file\n",
        "!conda run -n gatkenv gatk ApplyBQSR \\\n",
        "  -R ../DB_trunc/chr2.fa -I ./GATK/WXS_example_sorted.MD.bam \\\n",
        "  --bqsr-recal-file ./GATK/WXS_example_sorted_recal_data.table \\\n",
        "  -O ./GATK/WXS_example_sorted.MD_BR.bam\n"
      ],
      "metadata": {
        "id": "65H31SfFlx1U"
      },
      "execution_count": null,
      "outputs": []
    },
    {
      "cell_type": "code",
      "source": [
        "import igv_notebook\n",
        "\n",
        "igv_notebook.init()\n",
        "\n",
        "b = igv_notebook.Browser(\n",
        "    {\n",
        "        \"genome\": \"hg38\",\n",
        "        \"locus\": \"chr2:5876477-5876517\"\n",
        "    }\n",
        ")\n",
        "\n",
        "b.load_track(\n",
        "    {\n",
        "        \"name\": \"WXS\",\n",
        "        \"path\": \"./BAM/WXS_example_sorted.bam\",\n",
        "        \"indexPath\": \"./BAM/WXS_example_sorted.bam.bai\",\n",
        "        \"format\": \"bam\",\n",
        "        \"type\": \"alignment\"\n",
        "    })\n",
        "b.load_track(\n",
        "    {\n",
        "        \"name\": \"WXS MD BR\",\n",
        "        \"path\": \"./GATK/WXS_example_sorted.MD_BR.bam\",\n",
        "        \"indexPath\": \"./GATK/WXS_example_sorted.MD_BR.bai\",\n",
        "        \"format\": \"bam\",\n",
        "        \"type\": \"alignment\"\n",
        "    })"
      ],
      "metadata": {
        "id": "Xmvp4OacTnw6"
      },
      "execution_count": null,
      "outputs": []
    },
    {
      "cell_type": "markdown",
      "source": [
        "###Run Alignment Metrics generation"
      ],
      "metadata": {
        "id": "8-NOVm_CaCvj"
      }
    },
    {
      "cell_type": "code",
      "source": [
        "!mkdir ./GATK/QC"
      ],
      "metadata": {
        "id": "f1pc95PNy-eu"
      },
      "execution_count": null,
      "outputs": []
    },
    {
      "cell_type": "code",
      "source": [
        "# QC1. Insert-size & basic BAM stats\n",
        "!bamtools stats -insert -in ./GATK/WXS_example_sorted.MD_BR.bam > ./GATK/QC/WXS_example_sorted.QC.bamtools_stat.txt\n"
      ],
      "metadata": {
        "id": "7SfIKgmVvxiB"
      },
      "execution_count": null,
      "outputs": []
    },
    {
      "cell_type": "code",
      "source": [
        "# QC2. Picard multi-metrics (alignment/quality/insert-size PDFs)\n",
        "!conda run -n gatkenv gatk CollectReadCounts -I ./GATK/WXS_example_sorted.MD_BR.bam -L ./GATK_reference/intervals.bed --interval-merging-rule OVERLAPPING_ONLY --format TSV -O ./GATK/QC/WXS_example_sorted.QC.read_counts.tsv"
      ],
      "metadata": {
        "id": "me2MqDk4a3jJ"
      },
      "execution_count": null,
      "outputs": []
    },
    {
      "cell_type": "code",
      "source": [
        "# QC3. Per-interval read counts (for coverage)\n",
        "!conda run -n gatkenv gatk CollectMultipleMetrics -I ./GATK/WXS_example_sorted.MD_BR.bam -O ./GATK/QC/WXS_example_sorted.QC.multiple_metrics"
      ],
      "metadata": {
        "id": "Emt0eFxFa5Nl"
      },
      "execution_count": null,
      "outputs": []
    },
    {
      "cell_type": "code",
      "source": [
        "# QC4. Hybrid-capture metrics (bait/target coverage)\n",
        "!conda run -n gatkenv gatk CollectHsMetrics -I ./GATK/WXS_example_sorted.MD_BR.bam -O ./GATK/QC/WXS_example_sorted.QC.hs_metrics.txt -R ../DB_trunc/chr2.fa -BI ./GATK_reference/intervals.interval_list -TI ./GATK_reference/intervals.interval_list\n"
      ],
      "metadata": {
        "id": "Vl2Nc5j6yfxH"
      },
      "execution_count": null,
      "outputs": []
    },
    {
      "cell_type": "markdown",
      "source": [
        "### Variant calling: Mutect2"
      ],
      "metadata": {
        "id": "T1-CZzIFbHAq"
      }
    },
    {
      "cell_type": "code",
      "source": [
        "# Call variants using Mutect2\n",
        "!conda run -n gatkenv gatk Mutect2 \\\n",
        "  -R ../DB_trunc/chr2.fa \\\n",
        "  -I ./GATK/WXS_example_sorted.MD_BR.bam \\\n",
        "  -tumor WXS_example \\\n",
        "  -L ./GATK_reference/intervals.bed \\\n",
        "  -ip 10 --min-base-quality-score 20 \\\n",
        "  --germline-resource ./GATK_reference/af-only-gnomad.hg38.subset.vcf.gz \\\n",
        "  --f1r2-tar-gz ./GATK/WXS_example_sorted.Mutect2.f1r2.tar.gz  \\\n",
        "  -O ./GATK/WXS_example_sorted.Mutect2.unfiltered.vcf\n"
      ],
      "metadata": {
        "id": "PU-cxtGEzPv4"
      },
      "execution_count": null,
      "outputs": []
    },
    {
      "cell_type": "code",
      "source": [
        "# Learn strand/orientation artifact model\n",
        "!conda run -n gatkenv gatk LearnReadOrientationModel -I ./GATK/WXS_example_sorted.Mutect2.f1r2.tar.gz -O ./GATK/WXS_example_sorted.Mutect2.read-orientation-model.tar.gz\n",
        "# Estimate contamination from common SNPs\n",
        "!conda run -n gatkenv gatk GetPileupSummaries -I ./GATK/WXS_example_sorted.MD_BR.bam -V ./GATK_reference/small_exac_common_3.hg38.subset.vcf.gz -L ./GATK_reference/small_exac_common_3.hg38.subset.vcf.gz -O ./GATK/WXS_example_sorted.Mutect2.getpileupsummaries.table\n",
        "!conda run -n gatkenv gatk CalculateContamination -I ./GATK/WXS_example_sorted.Mutect2.getpileupsummaries.table -O ./GATK/WXS_example_sorted.Mutect2.calculatecontamination.table\n"
      ],
      "metadata": {
        "id": "MWBMZKaXzi4X"
      },
      "execution_count": null,
      "outputs": []
    },
    {
      "cell_type": "code",
      "source": [
        "# Probabilistic filtering of calls\n",
        "!conda run -n gatkenv gatk FilterMutectCalls \\\n",
        "  -R ../DB_trunc/chr2.fa \\\n",
        "  -V ./GATK/WXS_example_sorted.Mutect2.unfiltered.vcf \\\n",
        "  --contamination-table ./GATK/WXS_example_sorted.Mutect2.calculatecontamination.table \\\n",
        "  --ob-priors ./GATK/WXS_example_sorted.Mutect2.read-orientation-model.tar.gz \\\n",
        "  -O ./GATK/WXS_example_sorted.Mutect2.filter1.vcf\n"
      ],
      "metadata": {
        "id": "jaL1ob8h0Qa7"
      },
      "execution_count": null,
      "outputs": []
    },
    {
      "cell_type": "markdown",
      "source": [
        "### Normalisation and Filtering"
      ],
      "metadata": {
        "id": "Yn9AVsuRbg5f"
      }
    },
    {
      "cell_type": "code",
      "source": [
        "# Post-calling normalization and indexing\n",
        "!bcftools norm -m-both ./GATK/WXS_example_sorted.Mutect2.filter1.vcf | bcftools norm -f ../DB_trunc/chr2.fa | bgzip -c > ./GATK/WXS_example_sorted.Mutect2.filter1.norm.vcf.gz\n",
        "!tabix -p vcf ./GATK/WXS_example_sorted.Mutect2.filter1.norm.vcf.gz"
      ],
      "metadata": {
        "id": "0hr_jyjs0VqB"
      },
      "execution_count": null,
      "outputs": []
    },
    {
      "cell_type": "code",
      "source": [
        "# Applying filters on depth, VAF, rarity\n",
        "!bcftools filter -i 'AF>=0.02 && FORMAT/DP>=50 && (INFO/POPAF>=2 || INFO/POPAF=\".\")'\\\n",
        "  ./GATK/WXS_example_sorted.Mutect2.filter1.norm.vcf.gz \\\n",
        "| bgzip -c > ./GATK/WXS_example_sorted.Mutect2.final.vcf.gz\n",
        "!tabix -p vcf ./GATK/WXS_example_sorted.Mutect2.final.vcf.gz"
      ],
      "metadata": {
        "id": "WxNuYPk40Xk_"
      },
      "execution_count": null,
      "outputs": []
    },
    {
      "cell_type": "code",
      "source": [
        "# Cleaning up vcf, extracing allele depth info only\n",
        "!bcftools annotate -x INFO,^FORMAT/AD ./GATK/WXS_example_sorted.Mutect2.final.vcf.gz -O z -o ./GATK/WXS_example_sorted.Mutect2.final.AD.vcf.gz\n",
        "!tabix -p vcf ./GATK/WXS_example_sorted.Mutect2.final.AD.vcf.gz"
      ],
      "metadata": {
        "id": "EveSi4u-1GTD"
      },
      "execution_count": null,
      "outputs": []
    },
    {
      "cell_type": "code",
      "source": [
        "# View our results\n",
        "!bcftools view -H ./GATK/WXS_example_sorted.Mutect2.final.AD.vcf.gz | wc -l\n",
        "!bcftools view -H ./GATK/WXS_example_sorted.Mutect2.final.AD.vcf.gz | head"
      ],
      "metadata": {
        "id": "FixcEN2p97u0"
      },
      "execution_count": null,
      "outputs": []
    },
    {
      "cell_type": "code",
      "source": [
        "import igv_notebook\n",
        "\n",
        "igv_notebook.init()\n",
        "\n",
        "b = igv_notebook.Browser(\n",
        "    {\n",
        "        \"genome\": \"hg38\",\n",
        "        \"locus\": \"chr2:47,782,145-47,807,953\"\n",
        "    }\n",
        ")\n",
        "\n",
        "b.load_track(\n",
        "    {\n",
        "        \"name\": \"WXS\",\n",
        "        \"path\": \"./GATK/WXS_example_sorted.MD_BR.bam\",\n",
        "        \"indexPath\": \"./GATK/WXS_example_sorted.MD_BR.bai\",\n",
        "        \"format\": \"bam\",\n",
        "        \"type\": \"alignment\"\n",
        "    })\n",
        "\n",
        "b.load_track(\n",
        "    {\n",
        "        \"name\": \"VCF\",\n",
        "        \"path\": \"./GATK/WXS_example_sorted.Mutect2.filter1.norm.vcf.gz\",\n",
        "        \"indexPath\": \"./GATK/WXS_example_sorted.Mutect2.filter1.norm.vcf.gz.tbi\",\n",
        "        \"format\": \"vcf\"\n",
        "    })"
      ],
      "metadata": {
        "id": "_scKSwRjUm7p"
      },
      "execution_count": null,
      "outputs": []
    }
  ]
}