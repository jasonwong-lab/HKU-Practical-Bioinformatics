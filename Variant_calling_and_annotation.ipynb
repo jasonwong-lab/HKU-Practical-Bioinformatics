{
  "nbformat": 4,
  "nbformat_minor": 0,
  "metadata": {
    "colab": {
      "provenance": [],
      "collapsed_sections": []
    },
    "kernelspec": {
      "name": "python3",
      "display_name": "Python 3"
    },
    "language_info": {
      "name": "python"
    }
  },
  "cells": [
    {
      "cell_type": "markdown",
      "source": [
        "## Set working directory\n",
        "\n",
        "By default working directoy will be My Drive/PB_course"
      ],
      "metadata": {
        "id": "qV5hMQ6FYRbp"
      }
    },
    {
      "cell_type": "code",
      "source": [
        "# set working pathway to your own google drive doc (~ 1 min)\n",
        "from google.colab import drive\n",
        "drive.mount('/content/gdrive')                         # if using for the first time, you be requested to grant permission to link your Google Drive\n",
        "\n",
        "import os\n",
        "try:\n",
        "  os.mkdir(\"/content/gdrive/My Drive/PB_course/\")         # change this path if necessary\n",
        "except FileExistsError:\n",
        "  print(\"directory already exist. OK to continue\")\n",
        "os.chdir(\"/content/gdrive/My Drive/PB_course/\")"
      ],
      "metadata": {
        "id": "mtrzemqVYSP3"
      },
      "execution_count": null,
      "outputs": []
    },
    {
      "cell_type": "code",
      "source": [
        "!pwd"
      ],
      "metadata": {
        "id": "wR48zZ6UYVKZ"
      },
      "execution_count": null,
      "outputs": []
    },
    {
      "cell_type": "markdown",
      "source": [
        "## Package installation and downloads for workshop (~ 5 minutes)\n",
        "\n",
        "1.   conda (for simple installation of packages)\n",
        "2.   (optional)Download ready prepared files for analysis.\n",
        "2.   lofreq \n",
        "3.   bedtools"
      ],
      "metadata": {
        "id": "JyDL03P7YihV"
      }
    },
    {
      "cell_type": "code",
      "source": [
        "# install conda (~ 1 min). There will be a message saying that the session has crashed but don't worry about this. This is due to the session restarting following conda installation\n",
        "!pip install -q condacolab\n",
        "import condacolab\n",
        "condacolab.install()"
      ],
      "metadata": {
        "id": "2Wi9xeIHbYOJ"
      },
      "execution_count": null,
      "outputs": []
    },
    {
      "cell_type": "code",
      "source": [
        "# install lofreq (~ 1 mins)\n",
        "!conda install -c bioconda lofreq"
      ],
      "metadata": {
        "id": "-WZdzay9bd56"
      },
      "execution_count": null,
      "outputs": []
    },
    {
      "cell_type": "code",
      "source": [
        "# install bedtools (~ 1 mins)\n",
        "!conda install -c bioconda bedtools"
      ],
      "metadata": {
        "id": "MIZgiC7Zb8UR"
      },
      "execution_count": null,
      "outputs": []
    },
    {
      "cell_type": "code",
      "source": [
        "import os\n",
        "os.chdir(\"/content/gdrive/My Drive/PB_course/Datasets/\")\n",
        "if os.path.isfile(\"/content/gdrive/MyDrive/PB_course/Datasets/BAM/WXS_example_sorted.bam\"):    # check if the file exist\n",
        "  print(\"file already exit, OK to continue.\") \n",
        "else:\n",
        "  !wget -O WXS_BAMs.zip https://github.com/jasonwong-lab/HKU-Practical-Bioinformatics/raw/main/files/WXS_BAMs.zip\n",
        "  !unzip -o WXS_BAMs.zip   #unzip file\n",
        "  !rm WXS_BAMs.zip"
      ],
      "metadata": {
        "id": "p_jerGiQ1sqV"
      },
      "execution_count": null,
      "outputs": []
    },
    {
      "cell_type": "markdown",
      "source": [
        "## Variant calling command line\n",
        "\n",
        "1.1. Download file\n",
        "\n",
        "1.2. Variant calling using LoFreq\n",
        "\n",
        "1.3. Using bedtools to identify coding variants"
      ],
      "metadata": {
        "id": "mToXAoghYw2E"
      }
    },
    {
      "cell_type": "code",
      "source": [
        "# double check that we are in right directory\n",
        "import os\n",
        "os.chdir(\"/content/gdrive/My Drive/PB_course/Datasets\")\n",
        "\n",
        "# use the file from previous class\n",
        "!ls -l BAM/"
      ],
      "metadata": {
        "id": "WhvYRYZ3Y4cx"
      },
      "execution_count": null,
      "outputs": []
    },
    {
      "cell_type": "code",
      "source": [
        "!lofreq"
      ],
      "metadata": {
        "id": "f0GVEhjDjVG9"
      },
      "execution_count": null,
      "outputs": []
    },
    {
      "cell_type": "code",
      "source": [
        "# Variant calling using LoFreq\n",
        "!lofreq call"
      ],
      "metadata": {
        "id": "jSL4JPJHYjN6"
      },
      "execution_count": null,
      "outputs": []
    },
    {
      "cell_type": "code",
      "source": [
        "#Step 1 – Create directory to store VCF files\n",
        "!mkdir VCF/"
      ],
      "metadata": {
        "id": "AsDq2fIXcgK9"
      },
      "execution_count": 5,
      "outputs": []
    },
    {
      "cell_type": "code",
      "source": [
        "#Step 2 – Run LoFreq call\n",
        "#!rm -rf VCF/ \n",
        "!lofreq call ./BAM/WXS_example_sorted.bam -o ./VCF/WXS_germline.vcf -f ../DB_trunc/chr2.fa --verbose"
      ],
      "metadata": {
        "id": "CnPshIZ6c5A4"
      },
      "execution_count": null,
      "outputs": []
    },
    {
      "cell_type": "code",
      "source": [
        "#check result:\n",
        "!head -n 20 ./VCF/WXS_germline.vcf"
      ],
      "metadata": {
        "id": "hmWWDqzTdfcS"
      },
      "execution_count": null,
      "outputs": []
    },
    {
      "cell_type": "markdown",
      "source": [
        "### Using bedtools to identify coding variants. \n",
        "UCSC genome browser: https://genome.ucsc.edu/cgi-bin/hgGateway?redirect=manual&source=genome.ucsc.edu\n",
        "\n",
        "TABLE BROWSER : https://genome.ucsc.edu/cgi-bin/hgTables   \n",
        "Output file: hg19_ucsc_exons_coding.bed"
      ],
      "metadata": {
        "id": "NDasySJQeG37"
      }
    },
    {
      "cell_type": "code",
      "source": [
        "#Create a folder called Annotations\n",
        "!mkdir Annotations/"
      ],
      "metadata": {
        "id": "Z9gDDBIfeIRm"
      },
      "execution_count": 8,
      "outputs": []
    },
    {
      "cell_type": "code",
      "source": [
        "#download the annotation file \n",
        "!wget -O Annotations/hg38_ucsc_exons_coding_chr2.bed https://github.com/jasonwong-lab/HKU-Practical-Bioinformatics/raw/main/files/hg38_ucsc_exons_coding_chr2.bed"
      ],
      "metadata": {
        "id": "gHCt35OHeXhP"
      },
      "execution_count": null,
      "outputs": []
    },
    {
      "cell_type": "code",
      "source": [
        "#Use intersectBed to find out which variants in the VCF file is in coding regions.\n",
        "!intersectBed -a ./VCF/WXS_germline.vcf -b ./Annotations/hg38_ucsc_exons_coding_chr2.bed -u > ./VCF/WXS_germline_coding.vcf"
      ],
      "metadata": {
        "id": "JwdM2AYOfodj"
      },
      "execution_count": 10,
      "outputs": []
    },
    {
      "cell_type": "code",
      "source": [
        "#Count the number of lines in WXS_germline_coding.vcf\n",
        "!wc -l ./VCF/WXS_germline_coding.vcf"
      ],
      "metadata": {
        "id": "61RwW3YkgAMI"
      },
      "execution_count": null,
      "outputs": []
    },
    {
      "cell_type": "code",
      "source": [
        "#Count the number of lines in WXS_germline.vcf. Remove the header by grep\n",
        "!grep -v '#' ./VCF/WXS_germline.vcf | wc -l"
      ],
      "metadata": {
        "id": "y-jkIHfGgpdF"
      },
      "execution_count": null,
      "outputs": []
    },
    {
      "cell_type": "markdown",
      "source": [
        "### Check the functional impact of variants\n",
        "\n",
        "VEP online: http://grch37.ensembl.org/Homo_sapiens/Tools/VEP\n",
        "\n",
        "upload file: HOME > Datasets > VCF > WGS_germline.vcf"
      ],
      "metadata": {
        "id": "0XDbINSXg1AP"
      }
    },
    {
      "cell_type": "markdown",
      "source": [
        "### IGV borwser"
      ],
      "metadata": {
        "id": "Jo8cb29WK2pC"
      }
    },
    {
      "cell_type": "code",
      "source": [
        "#Install igv-notebook\n",
        "!pip install igv-notebook"
      ],
      "metadata": {
        "id": "B_5lJh21K7Ya"
      },
      "execution_count": null,
      "outputs": []
    },
    {
      "cell_type": "code",
      "source": [
        "!ls BAM/"
      ],
      "metadata": {
        "id": "OQgNJqy9kHYJ"
      },
      "execution_count": null,
      "outputs": []
    },
    {
      "cell_type": "code",
      "source": [
        "#Load track from local paths\n",
        "import igv_notebook\n",
        "\n",
        "igv_notebook.init()\n",
        "\n",
        "b = igv_notebook.Browser(\n",
        "    {\n",
        "        \"genome\": \"hg38\",\n",
        "        \"locus\": \"chr2:47,806,395-47,806,445\"\n",
        "    }\n",
        ")\n",
        "\n",
        "\n",
        "b.load_track(\n",
        "    {\n",
        "        \"name\": \"Local BAM\",\n",
        "        \"path\": \"./BAM/WXS_example_sorted.bam\",\n",
        "        \"indexPath\": \"./BAM/WXS_example_sorted.bam.bai\",\n",
        "        \"format\": \"bam\",\n",
        "        \"type\": \"alignment\"\n",
        "    })\n",
        "\n"
      ],
      "metadata": {
        "id": "a_tqSvF8TTVp"
      },
      "execution_count": null,
      "outputs": []
    },
    {
      "cell_type": "code",
      "source": [],
      "metadata": {
        "id": "xcWwe1TjqceV"
      },
      "execution_count": null,
      "outputs": []
    }
  ]
}