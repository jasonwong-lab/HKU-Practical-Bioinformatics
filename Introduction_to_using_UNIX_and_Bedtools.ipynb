{
  "cells": [
    {
      "cell_type": "markdown",
      "id": "6d954c3e",
      "metadata": {
        "id": "6d954c3e"
      },
      "source": [
        "## Introduction to using UNIX and Bedtools"
      ]
    },
    {
      "cell_type": "markdown",
      "source": [
        "# create a linux terminal"
      ],
      "metadata": {
        "id": "xaA8iZbcAHOx"
      },
      "id": "xaA8iZbcAHOx"
    },
    {
      "cell_type": "code",
      "source": [
        "!pip install colab-xterm\n",
        "%load_ext colabxterm\n",
        "%xterm"
      ],
      "metadata": {
        "id": "GhZRlPDfAE3G"
      },
      "id": "GhZRlPDfAE3G",
      "execution_count": null,
      "outputs": []
    },
    {
      "cell_type": "markdown",
      "source": [
        "## *** Set working directory\n",
        "\n",
        "By default, the working directory will be My Drive/PB_course"
      ],
      "metadata": {
        "id": "DPyfNaZOM-wT"
      },
      "id": "DPyfNaZOM-wT"
    },
    {
      "cell_type": "code",
      "source": [
        "# set working pathway to your own google drive doc (~ 1 min)\n",
        "from google.colab import drive\n",
        "drive.mount('/content/gdrive')                         # if using for the first time, you will be requested to grant permission to link your Google Drive\n",
        "\n",
        "import os\n",
        "try:\n",
        "  os.mkdir(\"/content/gdrive/My Drive/PB_course\")         # change this path if necessary\n",
        "except FileExistsError:\n",
        "  print(\"directory already exist. OK to continue\")\n",
        "os.chdir(\"/content/gdrive/My Drive/PB_course\")"
      ],
      "metadata": {
        "id": "jK4OV8cyM-XA"
      },
      "id": "jK4OV8cyM-XA",
      "execution_count": null,
      "outputs": []
    },
    {
      "cell_type": "markdown",
      "id": "d11ffdb2",
      "metadata": {
        "id": "d11ffdb2"
      },
      "source": [
        "## Basic UNIX commands\n",
        "The following section highlights some essential UNIX commands.\n",
        "Of note, the \"!\" sign you see at the beginning of some commands is to simulate we ran the code under a UNIX environment. Hence, **the real command line is the text after the \"!\" sign.**"
      ]
    },
    {
      "cell_type": "markdown",
      "id": "4944e5b8",
      "metadata": {
        "id": "4944e5b8"
      },
      "source": [
        "### Getting help in UNIX\n",
        "**man**: to view the user manual for a given command of interest.\n",
        "For example, for the command \"pwd\":"
      ]
    },
    {
      "cell_type": "code",
      "execution_count": null,
      "id": "460e8416",
      "metadata": {
        "scrolled": true,
        "id": "460e8416"
      },
      "outputs": [],
      "source": [
        "!man pwd"
      ]
    },
    {
      "cell_type": "markdown",
      "id": "82d6aedf",
      "metadata": {
        "id": "82d6aedf"
      },
      "source": [
        "**help**: to show a brief summary about the command of interest; and in the event that the command cannot be found, to print the list of help topics.\n",
        "For example, for the command \"pwd\":"
      ]
    },
    {
      "cell_type": "code",
      "execution_count": null,
      "id": "9498df83",
      "metadata": {
        "id": "9498df83"
      },
      "outputs": [],
      "source": [
        "!help pwd"
      ]
    },
    {
      "cell_type": "markdown",
      "id": "9a2ef7ff",
      "metadata": {
        "id": "9a2ef7ff"
      },
      "source": [
        "### Navigating Linux"
      ]
    },
    {
      "cell_type": "markdown",
      "id": "050e66fc",
      "metadata": {
        "id": "050e66fc"
      },
      "source": [
        "**echo**: to look at environmental variables. Specific environmental variables can be assessed as well, for example, `$SHELL, $PATH, $PS1, $HOME, and $USER`.  \n",
        "\n",
        "**env** can be used to check all variables.\n",
        "Some examples:"
      ]
    },
    {
      "cell_type": "code",
      "execution_count": null,
      "id": "e52c11e7",
      "metadata": {
        "id": "e52c11e7"
      },
      "outputs": [],
      "source": [
        "!echo This is an evening course"
      ]
    },
    {
      "cell_type": "code",
      "execution_count": null,
      "id": "426a27e4",
      "metadata": {
        "id": "426a27e4"
      },
      "outputs": [],
      "source": [
        "!echo $SHELL"
      ]
    },
    {
      "cell_type": "markdown",
      "id": "427e8d21",
      "metadata": {
        "id": "427e8d21"
      },
      "source": [
        "**pwd**: to print the current working directory"
      ]
    },
    {
      "cell_type": "code",
      "execution_count": null,
      "id": "a0adc679",
      "metadata": {
        "id": "a0adc679"
      },
      "outputs": [],
      "source": [
        "!pwd"
      ]
    },
    {
      "cell_type": "markdown",
      "id": "8bfe09c2",
      "metadata": {
        "id": "8bfe09c2"
      },
      "source": [
        "**ls**: to print a simplified list of the contents of the current working directory"
      ]
    },
    {
      "cell_type": "code",
      "execution_count": null,
      "id": "1d494237",
      "metadata": {
        "id": "1d494237"
      },
      "outputs": [],
      "source": [
        "!ls"
      ]
    },
    {
      "cell_type": "markdown",
      "id": "71d9fa37",
      "metadata": {
        "id": "71d9fa37"
      },
      "source": [
        "**ls -l**: to print a detailed list of the contents of the current working directory"
      ]
    },
    {
      "cell_type": "code",
      "execution_count": null,
      "id": "0dc1f73b",
      "metadata": {
        "scrolled": true,
        "id": "0dc1f73b"
      },
      "outputs": [],
      "source": [
        "!ls -l"
      ]
    },
    {
      "cell_type": "markdown",
      "id": "6b81e8e9",
      "metadata": {
        "id": "6b81e8e9"
      },
      "source": [
        "**mkdir**: to make a new directory  \n",
        "\n",
        "For example, to make the directory **files**:"
      ]
    },
    {
      "cell_type": "code",
      "source": [
        "!mkdir files"
      ],
      "metadata": {
        "id": "Ho0yIjGyOfNC"
      },
      "id": "Ho0yIjGyOfNC",
      "execution_count": null,
      "outputs": []
    },
    {
      "cell_type": "markdown",
      "source": [
        "**cd**: change directory. without directory name it takes the user back to the home directory    \n",
        "One can also change directory with a specific argument. For example, if one wanted to change their directory to **files**:"
      ],
      "metadata": {
        "id": "1MC1akpeWgKI"
      },
      "id": "1MC1akpeWgKI"
    },
    {
      "cell_type": "code",
      "execution_count": null,
      "id": "89fce382",
      "metadata": {
        "id": "89fce382"
      },
      "outputs": [],
      "source": [
        "%cd files"
      ]
    },
    {
      "cell_type": "markdown",
      "id": "35ff3fe3",
      "metadata": {
        "id": "35ff3fe3"
      },
      "source": [
        "Alternatively, one could also go back in the directory tree with cd ..:"
      ]
    },
    {
      "cell_type": "code",
      "execution_count": null,
      "id": "0770f410",
      "metadata": {
        "id": "0770f410"
      },
      "outputs": [],
      "source": [
        "%cd .."
      ]
    },
    {
      "cell_type": "markdown",
      "id": "7adc1767",
      "metadata": {
        "id": "7adc1767"
      },
      "source": [
        "## Inspecting and manipulating files"
      ]
    },
    {
      "cell_type": "code",
      "source": [
        "# double check that we are in right directory\n",
        "import os\n",
        "os.chdir(\"/content/gdrive/My Drive/PB_course/files\")\n",
        "\n",
        "# download necessary files for analysis from github\n",
        "!wget -O Sox17.bed https://raw.githubusercontent.com/jasonwong-lab/HKU-Practical-Bioinformatics/main/files/Sox17.bed\n",
        "!wget -O Sox17FNV.bed https://raw.githubusercontent.com/jasonwong-lab/HKU-Practical-Bioinformatics/main/files/Sox17FNV.bed\n",
        "!wget -O mm10.txt https://raw.githubusercontent.com/jasonwong-lab/HKU-Practical-Bioinformatics/main/files/mm10.txt\n",
        "!wget -O mm10Refgene.bed https://raw.githubusercontent.com/jasonwong-lab/HKU-Practical-Bioinformatics/main/files/mm10Refgene.bed"
      ],
      "metadata": {
        "id": "psoOVYsRPYVj"
      },
      "id": "psoOVYsRPYVj",
      "execution_count": null,
      "outputs": []
    },
    {
      "cell_type": "markdown",
      "id": "399bb700",
      "metadata": {
        "id": "399bb700"
      },
      "source": [
        "UNIX has several useful commands to look at files including **head**, **tail**, **less**, **more**, **cat**.\n",
        "\n",
        "**head**: prompts output of the first part of files such as the first 10 lines.\n",
        "To take a quick look at the contents of one's files:"
      ]
    },
    {
      "cell_type": "code",
      "source": [
        "!ls -l"
      ],
      "metadata": {
        "id": "2ZQsLWXXR3aw"
      },
      "id": "2ZQsLWXXR3aw",
      "execution_count": null,
      "outputs": []
    },
    {
      "cell_type": "code",
      "execution_count": null,
      "id": "82a067c5",
      "metadata": {
        "id": "82a067c5"
      },
      "outputs": [],
      "source": [
        "!head Sox17.bed"
      ]
    },
    {
      "cell_type": "markdown",
      "id": "4d494da7",
      "metadata": {
        "id": "4d494da7"
      },
      "source": [
        "**\\***: is an example of a UNIX wildcard. In the example below, we were able to look at the first lines of all files in the working directory with the use of \\*."
      ]
    },
    {
      "cell_type": "code",
      "execution_count": null,
      "id": "acbf973c",
      "metadata": {
        "id": "acbf973c"
      },
      "outputs": [],
      "source": [
        "!head -3 *"
      ]
    },
    {
      "cell_type": "markdown",
      "id": "60408fb8",
      "metadata": {
        "id": "60408fb8"
      },
      "source": [
        "**less**: inspect file page by page. quit with 'q' key."
      ]
    },
    {
      "cell_type": "code",
      "execution_count": null,
      "id": "902d4b39",
      "metadata": {
        "id": "902d4b39"
      },
      "outputs": [],
      "source": [
        "!less mm10Refgene.bed"
      ]
    },
    {
      "cell_type": "markdown",
      "id": "26002967",
      "metadata": {
        "id": "26002967"
      },
      "source": [
        "**wc**: acts as a word count. It can count words \"-w\", lines \"-l\", and characters of a file:\n",
        "\n"
      ]
    },
    {
      "cell_type": "code",
      "execution_count": null,
      "id": "ad732d44",
      "metadata": {
        "id": "ad732d44"
      },
      "outputs": [],
      "source": [
        "!wc Sox17.bed"
      ]
    },
    {
      "cell_type": "code",
      "execution_count": null,
      "id": "62a95c41",
      "metadata": {
        "id": "62a95c41"
      },
      "outputs": [],
      "source": [
        "!wc -l Sox17.bed"
      ]
    },
    {
      "cell_type": "code",
      "execution_count": null,
      "id": "0209a3a9",
      "metadata": {
        "id": "0209a3a9"
      },
      "outputs": [],
      "source": [
        "!wc -l *"
      ]
    },
    {
      "cell_type": "markdown",
      "id": "218b6384",
      "metadata": {
        "id": "218b6384"
      },
      "source": [
        "One can redirect output into a new file using \">\":"
      ]
    },
    {
      "cell_type": "code",
      "execution_count": null,
      "id": "dc986877",
      "metadata": {
        "id": "dc986877"
      },
      "outputs": [],
      "source": [
        "!ls -l > list.tmp"
      ]
    },
    {
      "cell_type": "code",
      "execution_count": null,
      "id": "ac6a3621",
      "metadata": {
        "id": "ac6a3621"
      },
      "outputs": [],
      "source": [
        "!ls -l"
      ]
    },
    {
      "cell_type": "code",
      "source": [
        "!head list.tmp"
      ],
      "metadata": {
        "id": "58R3EHTbWFVv"
      },
      "id": "58R3EHTbWFVv",
      "execution_count": null,
      "outputs": []
    },
    {
      "cell_type": "markdown",
      "id": "62419c1c",
      "metadata": {
        "id": "62419c1c"
      },
      "source": [
        "UNIX \"|\" pipelines can be used to chain processes together in a sequential manner.\n",
        "\n",
        "If you want to know how many file names in the **files** directory start with S:"
      ]
    },
    {
      "cell_type": "code",
      "source": [
        "!ls -ls S* > S_count.txt"
      ],
      "metadata": {
        "id": "65ZcotvpdQar"
      },
      "id": "65ZcotvpdQar",
      "execution_count": null,
      "outputs": []
    },
    {
      "cell_type": "code",
      "source": [
        "!wc -l S_count.txt"
      ],
      "metadata": {
        "id": "lqAJyMFZsF64"
      },
      "id": "lqAJyMFZsF64",
      "execution_count": null,
      "outputs": []
    },
    {
      "cell_type": "markdown",
      "source": [
        "The above two-step process (with the creation of a redundant file) can be simplified with the UNIX \"|\" pipe as follows:"
      ],
      "metadata": {
        "id": "Xv-3cADhsKzA"
      },
      "id": "Xv-3cADhsKzA"
    },
    {
      "cell_type": "code",
      "execution_count": null,
      "id": "0e912e05",
      "metadata": {
        "id": "0e912e05"
      },
      "outputs": [],
      "source": [
        "!ls -ls S* | wc -l"
      ]
    },
    {
      "cell_type": "code",
      "execution_count": null,
      "id": "4152c217",
      "metadata": {
        "id": "4152c217"
      },
      "outputs": [],
      "source": [
        "!ls -ls *bed | wc -l"
      ]
    },
    {
      "cell_type": "markdown",
      "id": "47d931aa",
      "metadata": {
        "id": "47d931aa"
      },
      "source": [
        "Let's remove these files using the **rm** command:"
      ]
    },
    {
      "cell_type": "code",
      "execution_count": null,
      "id": "9d0e35ca",
      "metadata": {
        "id": "9d0e35ca"
      },
      "outputs": [],
      "source": [
        "!rm list.tmp S_count.txt"
      ]
    },
    {
      "cell_type": "code",
      "source": [
        "!ls -l"
      ],
      "metadata": {
        "id": "u8_gUQYejLke"
      },
      "id": "u8_gUQYejLke",
      "execution_count": null,
      "outputs": []
    },
    {
      "cell_type": "markdown",
      "id": "b3a34ae6",
      "metadata": {
        "id": "b3a34ae6"
      },
      "source": [
        "To obtain a subset of information with a common feature, one may use the command **grep**. For example:"
      ]
    },
    {
      "cell_type": "code",
      "execution_count": null,
      "id": "40f1d715",
      "metadata": {
        "id": "40f1d715"
      },
      "outputs": [],
      "source": [
        "!grep peak_1000 Sox17.bed"
      ]
    },
    {
      "cell_type": "markdown",
      "id": "d2b8d70d",
      "metadata": {
        "id": "d2b8d70d"
      },
      "source": [
        "### Useful bedtool commands"
      ]
    },
    {
      "cell_type": "markdown",
      "source": [
        "#### *** Package installation and downloads for workshop (~ 5 minutes)\n",
        "\n",
        "1.   conda (for simple installation of packages)\n",
        "2.   bedtool (for bed file modification)"
      ],
      "metadata": {
        "id": "YrhHIaloYop6"
      },
      "id": "YrhHIaloYop6"
    },
    {
      "cell_type": "code",
      "source": [
        "# install conda (~ 1 min). There will be a message saying that the session has crashed but don't worry about this. This is due to the session restarting following conda installation\n",
        "!pip install -q condacolab\n",
        "import condacolab#\n",
        "condacolab.install()"
      ],
      "metadata": {
        "id": "oGTBgwWeYoBH"
      },
      "id": "oGTBgwWeYoBH",
      "execution_count": null,
      "outputs": []
    },
    {
      "cell_type": "code",
      "source": [
        "# install bedtools (~ 2 min)\n",
        "!conda install -c bioconda bedtools"
      ],
      "metadata": {
        "id": "DO3Sfbe0Zrt0"
      },
      "id": "DO3Sfbe0Zrt0",
      "execution_count": null,
      "outputs": []
    },
    {
      "cell_type": "code",
      "source": [
        "# double check that we are in right directory\n",
        "import os\n",
        "os.chdir(\"/content/gdrive/My Drive/PB_course/files\")"
      ],
      "metadata": {
        "id": "oUWZ1S4YjT2o"
      },
      "id": "oUWZ1S4YjT2o",
      "execution_count": null,
      "outputs": []
    },
    {
      "cell_type": "markdown",
      "id": "7330c39b",
      "metadata": {
        "id": "7330c39b"
      },
      "source": [
        "#### windowBed\n",
        "windowBed can be used to search for overlapping features:"
      ]
    },
    {
      "cell_type": "code",
      "execution_count": null,
      "id": "6fa70f26",
      "metadata": {
        "id": "6fa70f26"
      },
      "outputs": [],
      "source": [
        "!windowBed"
      ]
    },
    {
      "cell_type": "markdown",
      "id": "1e054830",
      "metadata": {
        "id": "1e054830"
      },
      "source": [
        "To determine how many peaks overlap between the files Sox17.bed and Sox17FNV.bed:"
      ]
    },
    {
      "cell_type": "code",
      "execution_count": null,
      "id": "c30facc6",
      "metadata": {
        "id": "c30facc6"
      },
      "outputs": [],
      "source": [
        "!windowBed -a Sox17.bed -b Sox17FNV.bed -w 200 | wc -l"
      ]
    },
    {
      "cell_type": "markdown",
      "id": "9384190a",
      "metadata": {
        "id": "9384190a"
      },
      "source": [
        "The command **awk** is a powerful scripting language that can be used for data extraction, reordering and manipulation. Below are some usage examples.\n",
        "\n",
        "Extract strong peaks (with signals larger than 100). Column 5 has information for peak scores. 'print $0' prints the whole line."
      ]
    },
    {
      "cell_type": "code",
      "execution_count": null,
      "id": "3cbe2b1a",
      "metadata": {
        "id": "3cbe2b1a"
      },
      "outputs": [],
      "source": [
        "!awk '$5>100 {print $0}' Sox17.bed"
      ]
    },
    {
      "cell_type": "markdown",
      "id": "901a9ba7",
      "metadata": {
        "id": "901a9ba7"
      },
      "source": [
        "Extract peaks on chromosome 19."
      ]
    },
    {
      "cell_type": "code",
      "execution_count": null,
      "id": "6ac2c3c0",
      "metadata": {
        "id": "6ac2c3c0"
      },
      "outputs": [],
      "source": [
        "!awk '$1 == \"chr19\" {print $0}' Sox17.bed | head"
      ]
    },
    {
      "cell_type": "markdown",
      "source": [
        "How many bases are there in total in the mm10 genome?"
      ],
      "metadata": {
        "id": "6BxynW1aaRhr"
      },
      "id": "6BxynW1aaRhr"
    },
    {
      "cell_type": "code",
      "source": [
        "!awk '{s+=$2} END {print s}' mm10.txt"
      ],
      "metadata": {
        "id": "YarsGDf4aKfq"
      },
      "id": "YarsGDf4aKfq",
      "execution_count": null,
      "outputs": []
    },
    {
      "cell_type": "markdown",
      "id": "f877407d",
      "metadata": {
        "id": "f877407d"
      },
      "source": [
        "Extract and reorder columns 4 and 1 and create a new column that combines a string ('Dummy') and a counter ('NR')"
      ]
    },
    {
      "cell_type": "code",
      "execution_count": null,
      "id": "23cf91d6",
      "metadata": {
        "id": "23cf91d6"
      },
      "outputs": [],
      "source": [
        "!awk '{print $4\"\\t\"$1\"\\tDummy\"NR}' mm10Refgene.bed |head"
      ]
    },
    {
      "cell_type": "markdown",
      "id": "3aa25b77",
      "metadata": {
        "id": "3aa25b77"
      },
      "source": [
        "To edit the files on hand, one can extract, join and sort columns with \"cut\", \"paste\" and \"sort\" respectively:"
      ]
    },
    {
      "cell_type": "code",
      "execution_count": null,
      "id": "08ebd788",
      "metadata": {
        "id": "08ebd788"
      },
      "outputs": [],
      "source": [
        "!cut -f 4,1 Sox17.bed |head"
      ]
    },
    {
      "cell_type": "code",
      "execution_count": null,
      "id": "1b9337df",
      "metadata": {
        "id": "1b9337df"
      },
      "outputs": [],
      "source": [
        "!cut -f 1 Sox17.bed > 1.bed"
      ]
    },
    {
      "cell_type": "code",
      "execution_count": null,
      "id": "077ccdd4",
      "metadata": {
        "id": "077ccdd4"
      },
      "outputs": [],
      "source": [
        "!cut -f 4 Sox17.bed > 4.bed"
      ]
    },
    {
      "cell_type": "code",
      "execution_count": null,
      "id": "d38e3087",
      "metadata": {
        "id": "d38e3087"
      },
      "outputs": [],
      "source": [
        "!paste 4.bed 1.bed |head"
      ]
    },
    {
      "cell_type": "code",
      "execution_count": null,
      "id": "641f4125",
      "metadata": {
        "id": "641f4125"
      },
      "outputs": [],
      "source": [
        "!sort -k2 -n mm10.txt"
      ]
    },
    {
      "cell_type": "markdown",
      "id": "4b055e23",
      "metadata": {
        "id": "4b055e23"
      },
      "source": [
        "#### closestBed  \n",
        "\n",
        "closestBed can be used to search for peaks close to the features of interest. The first step is to sort bed files by chromosomes and position.\n",
        "1. with \"sort\""
      ]
    },
    {
      "cell_type": "code",
      "execution_count": null,
      "id": "6d265412",
      "metadata": {
        "id": "6d265412"
      },
      "outputs": [],
      "source": [
        "!sort -k1,1 -k2,2n Sox17.bed > Sox17_sorted.bed"
      ]
    },
    {
      "cell_type": "code",
      "execution_count": null,
      "id": "e0b168ed",
      "metadata": {
        "id": "e0b168ed"
      },
      "outputs": [],
      "source": [
        "!sort -k1,1 -k2,2n Sox17FNV.bed > Sox17FNV_sorted.bed"
      ]
    },
    {
      "cell_type": "code",
      "execution_count": null,
      "id": "e448a70e",
      "metadata": {
        "id": "e448a70e"
      },
      "outputs": [],
      "source": [
        "!sort -k1,1 -k2,2n mm10Refgene.bed > mm10Refgene_sorted.bed"
      ]
    },
    {
      "cell_type": "markdown",
      "id": "592640f3",
      "metadata": {
        "id": "592640f3"
      },
      "source": [
        "2. with \"sortBed\""
      ]
    },
    {
      "cell_type": "code",
      "execution_count": null,
      "id": "bfe4eb9a",
      "metadata": {
        "id": "bfe4eb9a"
      },
      "outputs": [],
      "source": [
        "!sortBed -i Sox17.bed > Sox17_sorted.bed"
      ]
    },
    {
      "cell_type": "code",
      "execution_count": null,
      "id": "93baea5e",
      "metadata": {
        "id": "93baea5e"
      },
      "outputs": [],
      "source": [
        "!sortBed -i Sox17FNV.bed > Sox17FNV_sorted.bed"
      ]
    },
    {
      "cell_type": "code",
      "execution_count": null,
      "id": "62c64a6f",
      "metadata": {
        "id": "62c64a6f"
      },
      "outputs": [],
      "source": [
        "!sortBed -i mm10Refgene.bed > mm10Refgene_sorted.bed"
      ]
    },
    {
      "cell_type": "markdown",
      "id": "dc6cd368",
      "metadata": {
        "id": "dc6cd368"
      },
      "source": [
        "After sorting, to determine whether there are Sox17 peaks right at the TSS:"
      ]
    },
    {
      "cell_type": "code",
      "execution_count": null,
      "id": "921f8cd8",
      "metadata": {
        "id": "921f8cd8"
      },
      "outputs": [],
      "source": [
        "!closestBed -a mm10Refgene_sorted.bed -b Sox17_sorted.bed -d | awk '$10<10 {print $0}' | wc -l"
      ]
    }
  ],
  "metadata": {
    "kernelspec": {
      "display_name": "Python 3",
      "language": "python",
      "name": "python3"
    },
    "language_info": {
      "codemirror_mode": {
        "name": "ipython",
        "version": 3
      },
      "file_extension": ".py",
      "mimetype": "text/x-python",
      "name": "python",
      "nbconvert_exporter": "python",
      "pygments_lexer": "ipython3",
      "version": "3.6.10"
    },
    "colab": {
      "provenance": []
    }
  },
  "nbformat": 4,
  "nbformat_minor": 5
}