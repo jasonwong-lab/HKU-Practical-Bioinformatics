{
  "nbformat": 4,
  "nbformat_minor": 0,
  "metadata": {
    "colab": {
      "provenance": [],
      "collapsed_sections": []
    },
    "kernelspec": {
      "name": "python3",
      "display_name": "Python 3"
    },
    "language_info": {
      "name": "python"
    }
  },
  "cells": [
    {
      "cell_type": "markdown",
      "source": [
        "### HKU Practical Bioinformatics 2022-2023 - \"NGS sequence alignment\":how we alignment the NGS sequence data\n",
        "\n",
        "*by Dr Jason Wong*\n",
        "\n",
        "The objective of this course is to show demonstrate how sequencing data of human is aligned to the reference genome sequence and to study their effect on life growth and disease.\n"
      ],
      "metadata": {
        "id": "o_lO85QksbvE"
      }
    },
    {
      "cell_type": "markdown",
      "source": [
        "# create a linux terminal"
      ],
      "metadata": {
        "id": "j11wzf9PBGys"
      }
    },
    {
      "cell_type": "code",
      "source": [
        "!pip install colab-xterm\n",
        "%load_ext colabxterm\n",
        "%xterm"
      ],
      "metadata": {
        "id": "XPTQjnVIBIF-"
      },
      "execution_count": null,
      "outputs": []
    },
    {
      "cell_type": "markdown",
      "source": [
        "## *** Set working directory\n",
        "\n",
        "By default working directoy will be My Drive/PB_course"
      ],
      "metadata": {
        "id": "jQ4sstuDsBO1"
      }
    },
    {
      "cell_type": "code",
      "source": [
        "# set working pathway to your own google drive doc (~ 1 min)\n",
        "from google.colab import drive\n",
        "drive.mount('/content/gdrive')                         # if using for the first time, you be requested to grant permission to link your Google Drive\n",
        "\n",
        "import os\n",
        "try:\n",
        "  os.mkdir(\"/content/gdrive/My Drive/PB_course\")         # change this path if necessary\n",
        "except FileExistsError:\n",
        "  print(\"directory already exist. OK to continue\")\n",
        "os.chdir(\"/content/gdrive/My Drive/PB_course\")"
      ],
      "metadata": {
        "id": "p4_KlYtbrzzF"
      },
      "execution_count": null,
      "outputs": []
    },
    {
      "cell_type": "code",
      "source": [
        "!pwd"
      ],
      "metadata": {
        "id": "MUd5lw7ysDD3"
      },
      "execution_count": null,
      "outputs": []
    },
    {
      "cell_type": "markdown",
      "source": [
        "## *** Package installation and downloads for workshop (~ 5 minutes)\n",
        "\n",
        "1.   conda (for simple installation of packages)\n",
        "2.   FastQC (for reads quality check)\n",
        "3.   bwa (tools for sequence alignment)\n",
        "4.   samtools (tools for processing sam & bam files)\n",
        "5.   Download ready prepared files for analysis."
      ],
      "metadata": {
        "id": "7gnJkcA9tTBn"
      }
    },
    {
      "cell_type": "code",
      "source": [
        "# install conda (~ 1 min). There will be a message saying that the session has crashed but don't worry about this. This is due to the session restarting following conda installation\n",
        "!pip install -q condacolab\n",
        "import condacolab#\n",
        "condacolab.install()"
      ],
      "metadata": {
        "id": "UJMUyjxntquy"
      },
      "execution_count": null,
      "outputs": []
    },
    {
      "cell_type": "code",
      "source": [
        "# install fastqc (~ 2 mins)\n",
        "!conda install -c bioconda fastqc"
      ],
      "metadata": {
        "id": "F5J8UCIn7i7H"
      },
      "execution_count": null,
      "outputs": []
    },
    {
      "cell_type": "code",
      "source": [
        "# install bwa (~ 1 mins)\n",
        "!conda install -c bioconda bwa"
      ],
      "metadata": {
        "id": "hkiiT0YRz4S2"
      },
      "execution_count": null,
      "outputs": []
    },
    {
      "cell_type": "code",
      "source": [
        "# install samtools (~1 mins)\n",
        "!conda install -c bioconda samtools"
      ],
      "metadata": {
        "id": "oMH5G73bz_CI"
      },
      "execution_count": null,
      "outputs": []
    },
    {
      "cell_type": "code",
      "source": [
        "#download reference sequence\n",
        "# double check that we are in right directory (~ 30s)\n",
        "import os\n",
        "os.chdir(\"/content/gdrive/MyDrive/PB_course\")                     # change this path if necessary\n",
        "\n",
        "import os\n",
        "if os.path.isfile(\"/content/gdrive/MyDrive/PB_course/DB_trunc/chr2.fa\"):    # check if the file exist\n",
        "  print(\"reference file already exit, OK to continue.\") \n",
        "else:\n",
        "  !wget -O DB_trunc.zip https://cloudstor.aarnet.edu.au/plus/s/2ogImYtpLaiqkS4/download  # download if file not exist\n",
        "  #unzip fasta file\n",
        "  !unzip DB_trunc.zip\n",
        "  !rm DB_trunc.zip\n",
        "\n",
        "!ls -l ./DB_trunc/"
      ],
      "metadata": {
        "id": "OwoP1gu3GWLX"
      },
      "execution_count": null,
      "outputs": []
    },
    {
      "cell_type": "code",
      "source": [
        "#download sample sequences\n",
        "import os\n",
        "os.chdir(\"/content/gdrive/My Drive/PB_course/\")\n",
        "if os.path.isfile(\"/content/gdrive/MyDrive/PB_course/Datasets/ChIP-seq_H3K27ac_example.fq.gz\"):    # check if the file exist\n",
        "  print(\"file already exit, OK to continue.\") \n",
        "else:\n",
        " !wget -O Datasets.zip https://github.com/jasonwong-lab/HKU-Practical-Bioinformatics/raw/main/files/Datasets.zip    # download necessary file\n",
        " !unzip -o Datasets.zip   #unzip file\n",
        " !rm Datasets.zip"
      ],
      "metadata": {
        "id": "MsTqxxiP0AzQ"
      },
      "execution_count": null,
      "outputs": []
    },
    {
      "cell_type": "markdown",
      "source": [
        "## NGS_alignment command line\n",
        "\n",
        "1.1 Quality control\n",
        "\n",
        "1.2. Burrows–Wheeler Aligner\n",
        "\n",
        "1.3. Working with SAM files\n",
        "\n",
        "1.4. Align the WGS paired-end file"
      ],
      "metadata": {
        "id": "XB9TrCTC7Ncy"
      }
    },
    {
      "cell_type": "code",
      "source": [
        "#Check what datasets we have downloaded\n",
        "%cd /content/gdrive/MyDrive/PB_course\n",
        "!ls -l\n",
        "\n",
        "%cd Datasets/\n",
        "!ls -l"
      ],
      "metadata": {
        "id": "4dYhhxiG4lMM"
      },
      "execution_count": null,
      "outputs": []
    },
    {
      "cell_type": "code",
      "source": [
        "# To look at the ChIP-seq fastq file type (head -n 12 to print first 12 lines):\n",
        "!zcat < ChIP-seq_H3K27ac_example.fq.gz |head -n 12"
      ],
      "metadata": {
        "id": "EMrO9wOVnNH2"
      },
      "execution_count": null,
      "outputs": []
    },
    {
      "cell_type": "code",
      "source": [
        "# How many reads are there in the file? Type your code below:\n"
      ],
      "metadata": {
        "id": "t4g-To8mPw8V"
      },
      "execution_count": null,
      "outputs": []
    },
    {
      "cell_type": "markdown",
      "source": [
        "### Quality control"
      ],
      "metadata": {
        "id": "pxBspjPp7Dms"
      }
    },
    {
      "cell_type": "code",
      "source": [
        "## Run FastQC\n",
        "!fastqc ChIP-seq_H3K27ac_example.fq.gz"
      ],
      "metadata": {
        "id": "f82vAykr7Fie"
      },
      "execution_count": null,
      "outputs": []
    },
    {
      "cell_type": "code",
      "source": [
        "# check result html file \n",
        "!ls\n",
        "\n",
        "#download file and check html file with your local browser\n",
        "from google.colab import files\n",
        "files.download('ChIP-seq_H3K27ac_example_fastqc.html')"
      ],
      "metadata": {
        "id": "7v4bH04sZtn5"
      },
      "execution_count": null,
      "outputs": []
    },
    {
      "cell_type": "markdown",
      "source": [
        "you can also download the file **ChIP-seq_H3K27ac_example_fastqc.html** from \"gdrive/MyDrive/PB_course/Datasets\" on the left side"
      ],
      "metadata": {
        "id": "Gpt-qEVO81Bs"
      }
    },
    {
      "cell_type": "markdown",
      "source": [
        "### Burrows–Wheeler Aligner"
      ],
      "metadata": {
        "id": "mwdi1hJ59Dtu"
      }
    },
    {
      "cell_type": "code",
      "source": [
        "# Look at the options for bwa and bwa mem\n",
        "!bwa"
      ],
      "metadata": {
        "id": "yE-r2cjw8NfS"
      },
      "execution_count": null,
      "outputs": []
    },
    {
      "cell_type": "code",
      "source": [
        "!bwa mem"
      ],
      "metadata": {
        "id": "EQCq422B9HbZ"
      },
      "execution_count": null,
      "outputs": []
    },
    {
      "cell_type": "code",
      "source": [
        "# let's take a look at the database files\n",
        "%cd /content/gdrive/My Drive/PB_course/DB_trunc\n",
        "\n",
        "!ls -l"
      ],
      "metadata": {
        "id": "AuteGS6HdjLs"
      },
      "execution_count": null,
      "outputs": []
    },
    {
      "cell_type": "code",
      "source": [
        "#Get ready to run BWA. First Go into Datasets directory\n",
        "%cd /content/gdrive/My Drive/PB_course/Datasets"
      ],
      "metadata": {
        "id": "aFb8h3SZNyjY"
      },
      "execution_count": null,
      "outputs": []
    },
    {
      "cell_type": "code",
      "source": [
        "# make an directory to store output file\n",
        "!mkdir BAM"
      ],
      "metadata": {
        "id": "36JkHL9IeUkd"
      },
      "execution_count": null,
      "outputs": []
    },
    {
      "cell_type": "code",
      "source": [
        "#Do sequence alignment\n",
        "!bwa mem ../DB_trunc/chr2.fa ./ChIP-seq_H3K27ac_example.fq.gz > ./BAM/ChIP-seq_H3K27ac_example.sam"
      ],
      "metadata": {
        "id": "8EBR94fLMsQI"
      },
      "execution_count": null,
      "outputs": []
    },
    {
      "cell_type": "code",
      "source": [
        "# check the result\n",
        "!head -n 20 ./BAM/ChIP-seq_H3K27ac_example.sam"
      ],
      "metadata": {
        "id": "8oqpLEwbNsCd"
      },
      "execution_count": null,
      "outputs": []
    },
    {
      "cell_type": "markdown",
      "source": [
        "### Working with SAM files"
      ],
      "metadata": {
        "id": "BEQNtRCyOSOk"
      }
    },
    {
      "cell_type": "code",
      "source": [
        "#Check the samtools command\n",
        "!samtools"
      ],
      "metadata": {
        "id": "KLBxHt5COTho"
      },
      "execution_count": null,
      "outputs": []
    },
    {
      "cell_type": "code",
      "source": [
        "#Check out some stats about our aligned file\n",
        "!samtools flagstat ./BAM/ChIP-seq_H3K27ac_example.sam"
      ],
      "metadata": {
        "id": "6Pgw5h7JOXMO"
      },
      "execution_count": null,
      "outputs": []
    },
    {
      "cell_type": "code",
      "source": [
        "#Prepare the file for viewing on genome browser:\n",
        "#Step 1 – Convert SAM to BAM\n",
        "!samtools view -b ./BAM/ChIP-seq_H3K27ac_example.sam > ./BAM/ChIP-seq_H3K27ac_example.bam"
      ],
      "metadata": {
        "id": "A2PFyYk3OjWJ"
      },
      "execution_count": null,
      "outputs": []
    },
    {
      "cell_type": "code",
      "source": [
        "#Step 2 – sort BAM file\n",
        "!samtools sort ./BAM/ChIP-seq_H3K27ac_example.bam > ./BAM/ChIP-seq_H3K27ac_example_sorted.bam"
      ],
      "metadata": {
        "id": "IguX9XqQOwf9"
      },
      "execution_count": null,
      "outputs": []
    },
    {
      "cell_type": "code",
      "source": [
        "#Step 3 – index BAM file\n",
        "!samtools index ./BAM/ChIP-seq_H3K27ac_example_sorted.bam"
      ],
      "metadata": {
        "id": "D92KppCUFX9R"
      },
      "execution_count": null,
      "outputs": []
    },
    {
      "cell_type": "code",
      "source": [
        "#Look at the files that we have created\n",
        "!ls -l ./BAM/"
      ],
      "metadata": {
        "id": "kmJrDMuPF8Fn"
      },
      "execution_count": null,
      "outputs": []
    },
    {
      "cell_type": "markdown",
      "source": [
        "### IGV borwser"
      ],
      "metadata": {
        "id": "Jo8cb29WK2pC"
      }
    },
    {
      "cell_type": "code",
      "source": [
        "#Install igv-notebook\n",
        "!pip install igv-notebook"
      ],
      "metadata": {
        "id": "B_5lJh21K7Ya"
      },
      "execution_count": null,
      "outputs": []
    },
    {
      "cell_type": "code",
      "source": [
        "#Load track from local paths\n",
        "import igv_notebook\n",
        "\n",
        "igv_notebook.init()\n",
        "\n",
        "b = igv_notebook.Browser(\n",
        "    {\n",
        "        \"genome\": \"hg38\",\n",
        "        \"locus\": \"chr2:47,782,081-47,807,953\"\n",
        "    }\n",
        ")\n",
        "\n",
        "b.load_track(\n",
        "    {\n",
        "        \"name\": \"ChIP-seq_H3K27ac\",\n",
        "        \"path\": \"./BAM/ChIP-seq_H3K27ac_example_sorted.bam\",\n",
        "        \"indexPath\": \"./BAM/ChIP-seq_H3K27ac_example_sorted.bam.bai\",\n",
        "        \"format\": \"bam\",\n",
        "        \"type\": \"alignment\"\n",
        "    })"
      ],
      "metadata": {
        "id": "a_tqSvF8TTVp"
      },
      "execution_count": null,
      "outputs": []
    },
    {
      "cell_type": "markdown",
      "source": [
        "### Align the WGS paired-end file"
      ],
      "metadata": {
        "id": "nRQZFpflGGhN"
      }
    },
    {
      "cell_type": "code",
      "source": [
        "# Check that we have the WGS fastq files\n",
        "%cd /content/gdrive/My Drive/PB_course/Datasets\n",
        "!ls -l"
      ],
      "metadata": {
        "id": "jXpX831tnQp9"
      },
      "execution_count": null,
      "outputs": []
    },
    {
      "cell_type": "code",
      "source": [
        "# If you don't have WGS_example_1.fq.gz or WGS_example_2.fq.gz, run this cell to redownload the files\n",
        "import os\n",
        "os.chdir(\"/content/gdrive/My Drive/PB_course\")\n",
        "\n",
        "import os\n",
        "if os.path.isfile(\"/content/gdrive/MyDrive/PB_course/Datasets/WGS_example_1.fq.gz\"):    # check if the file exist\n",
        "  print(\"reference file already exit, OK to continue.\") \n",
        "else:\n",
        " !wget -O Datasets.zip https://github.com/jasonwong-lab/HKU-Practical-Bioinformatics/raw/main/files/Datasets.zip\n",
        " !unzip -o Datasets.zip   #unzip file\n",
        " !rm Datasets.zip\n",
        "\n",
        "#current directory should still be ~/Datasets\n",
        "%cd Datasets/\n",
        "!ls -l"
      ],
      "metadata": {
        "id": "vtckkwSm7Hw8"
      },
      "execution_count": null,
      "outputs": []
    },
    {
      "cell_type": "code",
      "source": [
        "#look at our work directory and paired-end file:\n",
        "!zcat < WGS_example_1.fq.gz |head -1\n",
        "!zcat < WGS_example_2.fq.gz |head -1"
      ],
      "metadata": {
        "id": "l6l-vb9cGILx"
      },
      "execution_count": null,
      "outputs": []
    },
    {
      "cell_type": "code",
      "source": [
        "#align the WGS paired-end file:( ~ 1 mins)\n",
        "#Step 1 – Aligning paired-end file using bwa mem:\n",
        "!bwa mem ../DB_trunc/chr2.fa ./WGS_example_1.fq.gz ./WGS_example_2.fq.gz > ./BAM/WGS_example.sam\n"
      ],
      "metadata": {
        "id": "Eq9VuU3BGl1U"
      },
      "execution_count": null,
      "outputs": []
    },
    {
      "cell_type": "code",
      "source": [
        "#Step 2 – Output sorted BAM, this time use piping to skip one step:\n",
        "!samtools view -b ./BAM/WGS_example.sam | samtools sort >./BAM/WGS_example_sorted.bam"
      ],
      "metadata": {
        "id": "162y1PgfHAQP"
      },
      "execution_count": null,
      "outputs": []
    },
    {
      "cell_type": "code",
      "source": [
        "#Step 3 – Index sorted bam file\n",
        "!samtools index ./BAM/WGS_example_sorted.bam"
      ],
      "metadata": {
        "id": "Xbws6jwVHXaQ"
      },
      "execution_count": null,
      "outputs": []
    },
    {
      "cell_type": "code",
      "source": [
        "#Check stats about the aligned WGS file\n",
        "!samtools flagstat ./BAM/WGS_example_sorted.bam"
      ],
      "metadata": {
        "id": "YjwwnUF2HcQo"
      },
      "execution_count": null,
      "outputs": []
    },
    {
      "cell_type": "code",
      "source": [
        "#IGV\n",
        "#Load track from local paths\n",
        "import igv_notebook\n",
        "\n",
        "igv_notebook.init()\n",
        "\n",
        "b = igv_notebook.Browser(\n",
        "    {\n",
        "        \"genome\": \"hg38\",\n",
        "        \"locus\": \"chr2:47,782,081-47,807,953\"\n",
        "    }\n",
        ")\n",
        "\n",
        "b.load_track(\n",
        "    {\n",
        "        \"name\": \"ChIP-seq H3K27ac\",\n",
        "        \"path\": \"./BAM/ChIP-seq_H3K27ac_example_sorted.bam\",\n",
        "        \"indexPath\": \"./BAM/ChIP-seq_H3K27ac_example_sorted.bam.bai\",\n",
        "        \"format\": \"bam\",\n",
        "        \"type\": \"alignment\"\n",
        "    })\n",
        "\n",
        "b.load_track(\n",
        "    {\n",
        "        \"name\": \"WGS\",\n",
        "        \"path\": \"./BAM/WGS_example_sorted.bam\",\n",
        "        \"indexPath\": \"./BAM/WGS_example_sorted.bam.bai\",\n",
        "        \"format\": \"bam\",\n",
        "        \"type\": \"alignment\"\n",
        "    })"
      ],
      "metadata": {
        "id": "evZ_KRIwca9N"
      },
      "execution_count": null,
      "outputs": []
    },
    {
      "cell_type": "markdown",
      "source": [
        "### self-exercise\n",
        "\n",
        "There are two more datasets in the Datasets folder. We will be using them next week so it will be good to get them aligned today or before next week’s lecture.\n",
        "\n",
        "They are WXS_example_*.fq.gz and WXS_example_cancer_*.fq.gz"
      ],
      "metadata": {
        "id": "p_kY3f9RMsmc"
      }
    },
    {
      "cell_type": "code",
      "source": [
        "# Run this cell to download the WXS files\n",
        "import os\n",
        "os.chdir(\"/content/gdrive/My Drive/PB_course\")\n",
        "\n",
        "import os\n",
        "if os.path.isfile(\"/content/gdrive/MyDrive/PB_course/Datasets/WXS_example_cancer_1.fq.gz\"):    # check if the file exist\n",
        "  print(\"reference file already exit, OK to continue.\") \n",
        "else:\n",
        " !wget -O Datasets_GXS.zip https://github.com/jasonwong-lab/HKU-Practical-Bioinformatics/raw/main/files/Datasets_GXS.zip\n",
        " !unzip -o Datasets_GXS.zip   #unzip file\n",
        " !rm Datasets_GXS.zip\n",
        " !wget -O Datasets/WXS_example_cancer_1.fq.gz https://github.com/jasonwong-lab/HKU-Practical-Bioinformatics/raw/main/files/WXS_example_cancer_1.fq.gz\n",
        " !wget -O Datasets/WXS_example_cancer_2.fq.gz https://github.com/jasonwong-lab/HKU-Practical-Bioinformatics/raw/main/files/WXS_example_cancer_2.fq.gz\n",
        " \n",
        "\n",
        "#Check what files we have now\n",
        "%cd Datasets/\n",
        "!ls -l"
      ],
      "metadata": {
        "id": "F3BzFQvlO-W1"
      },
      "execution_count": null,
      "outputs": []
    },
    {
      "cell_type": "code",
      "source": [
        "#type you code here....\n",
        "\n"
      ],
      "metadata": {
        "id": "gyp48vq6odnr"
      },
      "execution_count": null,
      "outputs": []
    }
  ]
}