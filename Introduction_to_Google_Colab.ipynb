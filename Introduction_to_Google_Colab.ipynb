{
  "cells": [
    {
      "cell_type": "markdown",
      "id": "6d954c3e",
      "metadata": {
        "id": "6d954c3e"
      },
      "source": [
        "## Introduction to Google Colab"
      ]
    },
    {
      "cell_type": "markdown",
      "source": [
        "This is called a Jupyter Notebook. One each line you can either add text (like here) or code (like below)."
      ],
      "metadata": {
        "id": "DPyfNaZOM-wT"
      },
      "id": "DPyfNaZOM-wT"
    },
    {
      "cell_type": "code",
      "source": [
        "!echo I am using Google Colab\n",
        "!echo \n",
        "!echo The time is `date`"
      ],
      "metadata": {
        "colab": {
          "base_uri": "https://localhost:8080/"
        },
        "id": "NGbTea6VYitx",
        "outputId": "4a991e57-89ba-4487-bee0-44aed2bc905d"
      },
      "id": "NGbTea6VYitx",
      "execution_count": 10,
      "outputs": [
        {
          "output_type": "stream",
          "name": "stdout",
          "text": [
            "I am using Google Colab\n",
            "\n",
            "The time is Mon Oct 10 15:00:53 UTC 2022\n"
          ]
        }
      ]
    },
    {
      "cell_type": "markdown",
      "source": [
        "We can write more text to describe the next bit of code.\n",
        "\n",
        "Let's connect to our Google Drive."
      ],
      "metadata": {
        "id": "RhPbHEneai2F"
      },
      "id": "RhPbHEneai2F"
    },
    {
      "cell_type": "code",
      "source": [
        "from google.colab import drive\n",
        "drive.mount('/content/drive')"
      ],
      "metadata": {
        "colab": {
          "base_uri": "https://localhost:8080/"
        },
        "id": "pW_BSWHdZgb7",
        "outputId": "ca575740-7186-43fc-bd63-d7fcb507b9d4"
      },
      "id": "pW_BSWHdZgb7",
      "execution_count": 11,
      "outputs": [
        {
          "output_type": "stream",
          "name": "stdout",
          "text": [
            "Mounted at /content/drive\n"
          ]
        }
      ]
    }
  ],
  "metadata": {
    "kernelspec": {
      "display_name": "Python 3",
      "language": "python",
      "name": "python3"
    },
    "language_info": {
      "codemirror_mode": {
        "name": "ipython",
        "version": 3
      },
      "file_extension": ".py",
      "mimetype": "text/x-python",
      "name": "python",
      "nbconvert_exporter": "python",
      "pygments_lexer": "ipython3",
      "version": "3.6.10"
    },
    "colab": {
      "provenance": [],
      "collapsed_sections": []
    }
  },
  "nbformat": 4,
  "nbformat_minor": 5
}