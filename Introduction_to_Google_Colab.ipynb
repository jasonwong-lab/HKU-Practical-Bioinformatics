{
  "cells": [
    {
      "cell_type": "markdown",
      "metadata": {
        "id": "view-in-github",
        "colab_type": "text"
      },
      "source": [
        "<a href=\"https://colab.research.google.com/github/jasonwong-lab/HKU-Practical-Bioinformatics/blob/main/Introduction_to_Google_Colab.ipynb\" target=\"_parent\"><img src=\"https://colab.research.google.com/assets/colab-badge.svg\" alt=\"Open In Colab\"/></a>"
      ]
    },
    {
      "cell_type": "markdown",
      "id": "6d954c3e",
      "metadata": {
        "id": "6d954c3e"
      },
      "source": [
        "## Introduction to Google Colab\n",
        "\n",
        "MMPH6005/SBMS7100 - Dr Jason Wong and Rachel Kwan"
      ]
    },
    {
      "cell_type": "markdown",
      "source": [
        "This is a Jupyter Notebook. One each \"cell\" you can either add text (like here) or code (like below)."
      ],
      "metadata": {
        "id": "DPyfNaZOM-wT"
      },
      "id": "DPyfNaZOM-wT"
    },
    {
      "cell_type": "code",
      "source": [
        "!echo I am using Google Colab\n",
        "!echo\n",
        "!echo The time is `date`"
      ],
      "metadata": {
        "id": "NGbTea6VYitx"
      },
      "id": "NGbTea6VYitx",
      "execution_count": null,
      "outputs": []
    },
    {
      "cell_type": "markdown",
      "source": [
        "We can write more text to describe the next bit of code.\n",
        "\n",
        "Let's connect to our Google Drive."
      ],
      "metadata": {
        "id": "RhPbHEneai2F"
      },
      "id": "RhPbHEneai2F"
    },
    {
      "cell_type": "code",
      "source": [
        "from google.colab import drive\n",
        "drive.mount('/content/drive')"
      ],
      "metadata": {
        "id": "pW_BSWHdZgb7"
      },
      "id": "pW_BSWHdZgb7",
      "execution_count": null,
      "outputs": []
    }
  ],
  "metadata": {
    "kernelspec": {
      "display_name": "Python 3",
      "language": "python",
      "name": "python3"
    },
    "language_info": {
      "codemirror_mode": {
        "name": "ipython",
        "version": 3
      },
      "file_extension": ".py",
      "mimetype": "text/x-python",
      "name": "python",
      "nbconvert_exporter": "python",
      "pygments_lexer": "ipython3",
      "version": "3.6.10"
    },
    "colab": {
      "provenance": [],
      "include_colab_link": true
    }
  },
  "nbformat": 4,
  "nbformat_minor": 5
}